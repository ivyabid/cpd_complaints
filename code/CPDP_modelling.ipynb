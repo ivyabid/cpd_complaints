{
 "cells": [
  {
   "cell_type": "markdown",
   "metadata": {
    "heading_collapsed": true
   },
   "source": [
    "## Import libraries and data, and create a baseline X and Y for modelling"
   ]
  },
  {
   "cell_type": "code",
   "execution_count": 1,
   "metadata": {
    "hidden": true
   },
   "outputs": [],
   "source": [
    "import pickle\n",
    "import pandas as pd\n",
    "import matplotlib.pyplot as plt\n",
    "import seaborn as sns\n",
    "\n",
    "import warnings\n",
    "warnings.filterwarnings('ignore')"
   ]
  },
  {
   "cell_type": "code",
   "execution_count": null,
   "metadata": {
    "hidden": true
   },
   "outputs": [],
   "source": [
    "from sklearn.model_selection import train_test_split, KFold, cross_val_score, StratifiedKFold, RandomizedSearchCV\n",
    "from sklearn.ensemble import RandomForestClassifier\n",
    "from sklearn.linear_model import LogisticRegression\n",
    "from imblearn.over_sampling import RandomOverSampler\n",
    "from imblearn.under_sampling import RandomUnderSampler\n",
    "from sklearn import svm\n",
    "from sklearn.neighbors import KNeighborsClassifier\n",
    "from sklearn.metrics import accuracy_score, confusion_matrix, recall_score,precision_score,f1_score\n",
    "from sklearn.naive_bayes import BernoulliNB, MultinomialNB, GaussianNB\n",
    "from sklearn.preprocessing import StandardScaler"
   ]
  },
  {
   "cell_type": "code",
   "execution_count": 188,
   "metadata": {
    "hidden": true
   },
   "outputs": [],
   "source": [
    "cpdp = pd.read_pickle('complaints_timerestricted')"
   ]
  },
  {
   "cell_type": "code",
   "execution_count": 189,
   "metadata": {
    "hidden": true
   },
   "outputs": [],
   "source": [
    "cpdp.set_index('cr_id',inplace=True)"
   ]
  },
  {
   "cell_type": "code",
   "execution_count": 190,
   "metadata": {
    "hidden": true
   },
   "outputs": [],
   "source": [
    "cpdp.columns\n",
    "cpdp.gender.fillna('Unknown',inplace=True)\n",
    "cpdp.race.fillna('Unknown',inplace=True)\n",
    "cpdp.numwitnesses.fillna(0,inplace=True)\n",
    "cpdp.dropna(inplace=True)"
   ]
  },
  {
   "cell_type": "code",
   "execution_count": null,
   "metadata": {
    "hidden": true
   },
   "outputs": [],
   "source": [
    "X=cpdp.drop(['appointed_date','cleaned_rannk','closed_date','complaint_date','complaint_category','complaint_code','cr_id','cv','final_finding','final_outcome','incident_date','link_uid','officer_birthyr','discipline'],axis=1)"
   ]
  },
  {
   "cell_type": "code",
   "execution_count": null,
   "metadata": {
    "hidden": true
   },
   "outputs": [],
   "source": [
    "X= pd.get_dummies(X)\n",
    "y=cpdp.discipline"
   ]
  },
  {
   "cell_type": "markdown",
   "metadata": {
    "heading_collapsed": true
   },
   "source": [
    "## Dealing with imbalanced classes"
   ]
  },
  {
   "cell_type": "markdown",
   "metadata": {
    "heading_collapsed": true,
    "hidden": true
   },
   "source": [
    "### A naive model with no attempt to balance classes"
   ]
  },
  {
   "cell_type": "markdown",
   "metadata": {
    "hidden": true
   },
   "source": [
    "First, I'm going to try a simple random forest and cross-validation and see how I do on accuracy and recall, to see if I need to do something to deal with my imbalanced classes (93% no discipline, 7% yes discipline)."
   ]
  },
  {
   "cell_type": "code",
   "execution_count": null,
   "metadata": {
    "hidden": true
   },
   "outputs": [],
   "source": [
    "xtr, xte, ytr, yte = train_test_split(X, y, test_size=0.2)\n",
    "kf = KFold(n_splits=5, shuffle=True, random_state = 71)\n",
    "rfc = RandomForestClassifier(n_estimators=20)\n",
    "\n",
    "cross_val_score(rfc, xtr, ytr, # estimator, features, target\n",
    "                cv=5, # number of folds \n",
    "                scoring='recall') # scoring metric"
   ]
  },
  {
   "cell_type": "code",
   "execution_count": null,
   "metadata": {
    "hidden": true
   },
   "outputs": [],
   "source": [
    "cross_val_score(rfc, xtr, ytr, # estimator, features, target\n",
    "                cv=5, # number of folds \n",
    "                scoring='accuracy') # scoring metric"
   ]
  },
  {
   "cell_type": "markdown",
   "metadata": {
    "hidden": true
   },
   "source": [
    "WOW, NOT GREAT. 30% recall and 94% accuracy. Okay, let's fix it. I have 200k rows, so I think I can try oversampling and not break my computer."
   ]
  },
  {
   "cell_type": "code",
   "execution_count": null,
   "metadata": {
    "hidden": true
   },
   "outputs": [],
   "source": [
    "# I am only going to oversample from my training data, not my holdout\n",
    "\n",
    "# Redo my train test split to stratify it\n",
    "xtr, xte, ytr, yte = train_test_split(X, y, test_size=0.2, stratify=y)"
   ]
  },
  {
   "cell_type": "markdown",
   "metadata": {
    "heading_collapsed": true,
    "hidden": true
   },
   "source": [
    "### Try out oversampling first"
   ]
  },
  {
   "cell_type": "code",
   "execution_count": null,
   "metadata": {
    "hidden": true
   },
   "outputs": [],
   "source": [
    "# Create new X and Y with resampled data\n",
    "ros = RandomOverSampler(random_state=71)\n",
    "X_resampled, y_resampled = ros.fit_sample(xtr,ytr)"
   ]
  },
  {
   "cell_type": "code",
   "execution_count": null,
   "metadata": {
    "hidden": true
   },
   "outputs": [],
   "source": [
    "rfc = RandomForestClassifier(n_estimators=20)\n",
    "\n",
    "cross_val_score(rfc, X_resampled, y_resampled, # estimator, features, target\n",
    "                cv=5, # number of folds \n",
    "                scoring='recall') # scoring metric"
   ]
  },
  {
   "cell_type": "code",
   "execution_count": null,
   "metadata": {
    "hidden": true
   },
   "outputs": [],
   "source": [
    "cross_val_score(rfc, X_resampled, y_resampled, # estimator, features, target\n",
    "                cv=5, # number of folds \n",
    "                scoring='accuracy') # scoring metric"
   ]
  },
  {
   "cell_type": "code",
   "execution_count": null,
   "metadata": {
    "hidden": true
   },
   "outputs": [],
   "source": [
    "model_o = rfc.fit(X_resampled,y_resampled)\n",
    "predictions_o = model_o.predict(xte)\n",
    "confusion_matrix(yte,predictions_o)"
   ]
  },
  {
   "cell_type": "code",
   "execution_count": null,
   "metadata": {
    "hidden": true
   },
   "outputs": [],
   "source": [
    "precision_score(yte,predictions_o)"
   ]
  },
  {
   "cell_type": "code",
   "execution_count": null,
   "metadata": {
    "hidden": true
   },
   "outputs": [],
   "source": [
    "recall_score(yte,predictions_o)"
   ]
  },
  {
   "cell_type": "markdown",
   "metadata": {
    "hidden": true
   },
   "source": [
    "When I do oversampling, I get a lot false negatives. I don't like this - I want my model to catch as many incidents of discipline happening as possible, since it's such a rare event."
   ]
  },
  {
   "cell_type": "code",
   "execution_count": null,
   "metadata": {
    "hidden": true
   },
   "outputs": [],
   "source": [
    "f1_score(yte,predictions_o)"
   ]
  },
  {
   "cell_type": "markdown",
   "metadata": {
    "heading_collapsed": true,
    "hidden": true
   },
   "source": [
    "### Now let's try undersampling"
   ]
  },
  {
   "cell_type": "code",
   "execution_count": null,
   "metadata": {
    "hidden": true
   },
   "outputs": [],
   "source": [
    "# Create new X and Y with undersampled data\n",
    "X_under, y_under = RandomUnderSampler(random_state=42).fit_sample(xtr,ytr)\n",
    "\n",
    "rfc = RandomForestClassifier(n_estimators=20)\n",
    "model_u = rfc.fit(X_under,y_under)"
   ]
  },
  {
   "cell_type": "code",
   "execution_count": null,
   "metadata": {
    "hidden": true
   },
   "outputs": [],
   "source": [
    "predictions_u = model_u.predict(xte)\n",
    "confusion_matrix(yte,predictions_u)"
   ]
  },
  {
   "cell_type": "code",
   "execution_count": null,
   "metadata": {
    "hidden": true
   },
   "outputs": [],
   "source": [
    "precision_score(yte,predictions_u)"
   ]
  },
  {
   "cell_type": "code",
   "execution_count": null,
   "metadata": {
    "hidden": true
   },
   "outputs": [],
   "source": [
    "recall_score(yte,predictions_u)"
   ]
  },
  {
   "cell_type": "code",
   "execution_count": null,
   "metadata": {
    "hidden": true
   },
   "outputs": [],
   "source": [
    "f1_score(yte,predictions_u)"
   ]
  },
  {
   "cell_type": "markdown",
   "metadata": {
    "hidden": true
   },
   "source": [
    "When I do undersampling, I get fewer false negatives and more false positives, but I also get a lot more true positives (recall is okay). My F1 is about the same. I care more about recall (a model that leans on reform!), so I think I prefer undersampling. It makes things run a LOT faster - the risk is that it will make it hard to do analysis on small sub-populations of my data (like the post reform era - most of my data is pre-IPRA)."
   ]
  },
  {
   "cell_type": "markdown",
   "metadata": {
    "heading_collapsed": true,
    "hidden": true
   },
   "source": [
    "### Now I'll try SMOTE"
   ]
  },
  {
   "cell_type": "code",
   "execution_count": null,
   "metadata": {
    "hidden": true
   },
   "outputs": [],
   "source": [
    "from imblearn.over_sampling import SMOTE\n",
    "X_smoted, y_smoted = SMOTE(random_state=42).fit_sample(xtr,ytr)"
   ]
  },
  {
   "cell_type": "code",
   "execution_count": null,
   "metadata": {
    "hidden": true
   },
   "outputs": [],
   "source": [
    "rfc = RandomForestClassifier(n_estimators=20)\n",
    "model_sm = rfc.fit(X_smoted,y_smoted)"
   ]
  },
  {
   "cell_type": "code",
   "execution_count": null,
   "metadata": {
    "hidden": true
   },
   "outputs": [],
   "source": [
    "predictions_sm = model_sm.predict(xte)\n",
    "confusion_matrix(yte,predictions_sm)"
   ]
  },
  {
   "cell_type": "code",
   "execution_count": null,
   "metadata": {
    "hidden": true
   },
   "outputs": [],
   "source": [
    "precision_score(yte,predictions_sm)"
   ]
  },
  {
   "cell_type": "code",
   "execution_count": null,
   "metadata": {
    "hidden": true
   },
   "outputs": [],
   "source": [
    "recall_score(yte,predictions_sm)"
   ]
  },
  {
   "cell_type": "code",
   "execution_count": null,
   "metadata": {
    "hidden": true
   },
   "outputs": [],
   "source": [
    "f1_score(yte,predictions_sm)"
   ]
  },
  {
   "cell_type": "markdown",
   "metadata": {
    "hidden": true
   },
   "source": [
    "SMOTE does a better job balancing precision and recall, as evidenced by its higher F1 score. I still think I will want my data to be biased for sensitivity, especially since people will expect a model coming at poor police accountability to underpredict disciplinary rate."
   ]
  },
  {
   "cell_type": "markdown",
   "metadata": {
    "heading_collapsed": true
   },
   "source": [
    "## Selecting features"
   ]
  },
  {
   "cell_type": "markdown",
   "metadata": {
    "heading_collapsed": true,
    "hidden": true
   },
   "source": [
    "### Drop current unit"
   ]
  },
  {
   "cell_type": "markdown",
   "metadata": {
    "hidden": true
   },
   "source": [
    "An initial look at feature importances showed me that my model was not learning a lot from 'current_unit'. Current_unit is a pretty dirty feature (cops move around as time goes on), and it adds a TON of complexity to my model, so I decided to lose it entirely."
   ]
  },
  {
   "cell_type": "code",
   "execution_count": null,
   "metadata": {
    "hidden": true
   },
   "outputs": [],
   "source": [
    "X=cpdp.drop(['appointed_date','cleaned_rannk','closed_date','complaint_date','complaint_category','complaint_code','cr_id','cv','final_finding','final_outcome','incident_date','link_uid','officer_birthyr','discipline','current_unit'],axis=1)\n",
    "\n",
    "X= pd.get_dummies(X)\n",
    "y=cpdp.discipline\n",
    "\n",
    "xtr, xte, ytr, yte = train_test_split(X, y, test_size=0.2, stratify=y)\n",
    "\n",
    "ros = RandomUnderSampler(random_state=71)\n",
    "X_under, y_under = ros.fit_sample(xtr,ytr)"
   ]
  },
  {
   "cell_type": "code",
   "execution_count": null,
   "metadata": {
    "hidden": true
   },
   "outputs": [],
   "source": [
    "rfc = RandomForestClassifier(n_estimators=20)\n",
    "model = rfc.fit(X_under,y_under)"
   ]
  },
  {
   "cell_type": "code",
   "execution_count": null,
   "metadata": {
    "hidden": true
   },
   "outputs": [],
   "source": [
    "predictions = model.predict(xte)\n",
    "confusion_matrix(yte,predictions)"
   ]
  },
  {
   "cell_type": "code",
   "execution_count": null,
   "metadata": {
    "hidden": true
   },
   "outputs": [],
   "source": [
    "feats = {} # a dict to hold feature_name: feature_importance\n",
    "for feature, importance in zip(xtr.columns, rfc.feature_importances_):\n",
    "    feats[feature] = importance #add the name/value pair \n",
    "\n",
    "importances = pd.DataFrame.from_dict(feats, orient='index').rename(columns={0: 'Gini-importance'})\n",
    "\n",
    "importances.sort_values(by='Gini-importance').plot(kind='bar',figsize=(15,13));"
   ]
  },
  {
   "cell_type": "code",
   "execution_count": null,
   "metadata": {
    "hidden": true
   },
   "outputs": [],
   "source": [
    "importances.sort_values(by='Gini-importance',ascending=False).head(60)"
   ]
  },
  {
   "cell_type": "markdown",
   "metadata": {
    "hidden": true
   },
   "source": [
    "**time2close** (the amount of time the complaint is investigated before a conclusion is made) is a really important part of my model. \n",
    "\n",
    "Unfortunately, this is so intuitive it's almost useless - if a complaint is going to be thrown out, they settle it quickly, and if they are going to take it seriously, the investigation takes longer. What's more, a 'time2close' feature by definition is not available for unsettled complaints. I decide to build my model without it even though this will reduce my accuracy."
   ]
  },
  {
   "cell_type": "markdown",
   "metadata": {
    "heading_collapsed": true,
    "hidden": true
   },
   "source": [
    "### Drop time2close even though it's really useful :("
   ]
  },
  {
   "cell_type": "code",
   "execution_count": null,
   "metadata": {
    "hidden": true
   },
   "outputs": [],
   "source": [
    "X=cpdp.drop(['appointed_date','cleaned_rannk','closed_date','complaint_date','complaint_category','complaint_code','cr_id','cv','final_finding','final_outcome','incident_date','link_uid','officer_birthyr','discipline','current_unit','time2close'],axis=1)\n",
    "\n",
    "X= pd.get_dummies(X)\n",
    "y=cpdp.discipline\n",
    "\n",
    "xtr, xte, ytr, yte = train_test_split(X, y, test_size=0.2, stratify=y)\n",
    "\n",
    "ros = RandomUnderSampler(random_state=71)\n",
    "X_under, y_under = ros.fit_sample(xtr,ytr)"
   ]
  },
  {
   "cell_type": "code",
   "execution_count": null,
   "metadata": {
    "hidden": true
   },
   "outputs": [],
   "source": [
    "rfc = RandomForestClassifier(n_estimators=20)\n",
    "model = rfc.fit(X_under,y_under)"
   ]
  },
  {
   "cell_type": "code",
   "execution_count": null,
   "metadata": {
    "hidden": true
   },
   "outputs": [],
   "source": [
    "predictions = model.predict(xte)\n",
    "confusion_matrix(yte,predictions)"
   ]
  },
  {
   "cell_type": "markdown",
   "metadata": {
    "hidden": true
   },
   "source": [
    "As a result of losing 'time2close', my model starts spitting out a lot more false positives. Hopefully I can fix this by trying different models and playing with parameters and other features."
   ]
  },
  {
   "cell_type": "code",
   "execution_count": null,
   "metadata": {
    "hidden": true
   },
   "outputs": [],
   "source": [
    "feats = {} # a dict to hold feature_name: feature_importance\n",
    "for feature, importance in zip(xtr.columns, rfc.feature_importances_):\n",
    "    feats[feature] = importance #add the name/value pair \n",
    "\n",
    "importances = pd.DataFrame.from_dict(feats, orient='index').rename(columns={0: 'Gini-importance'})\n",
    "\n",
    "importances.sort_values(by='Gini-importance').plot(kind='bar',figsize=(15,13));"
   ]
  },
  {
   "cell_type": "code",
   "execution_count": null,
   "metadata": {
    "hidden": true
   },
   "outputs": [],
   "source": [
    "xtr.columns"
   ]
  },
  {
   "cell_type": "markdown",
   "metadata": {
    "hidden": true
   },
   "source": [
    "The columns for **race** and **gender** of the complainant do not seem to be super valuable, and also add a lot of complexity to my model. I am also missing those values for over half my dataset.\n",
    "\n",
    "The **complainant code** also adds lots of complexity, and a lot of that information could be engineered in simpler features (as done already in the 'injury','not_operations', etc) columns. I went back and created two new columns to see if I could capture the complaint_code more simply. 'COPA Style' holds complain\n",
    "\n",
    "**time2complain** gives me negative numbers, that's not good. Don't know why I missed that. Let's lose it."
   ]
  },
  {
   "cell_type": "markdown",
   "metadata": {
    "heading_collapsed": true,
    "hidden": true
   },
   "source": [
    "### Drop complainant race, gender, month, and the complaint code"
   ]
  },
  {
   "cell_type": "code",
   "execution_count": 191,
   "metadata": {
    "hidden": true
   },
   "outputs": [],
   "source": [
    "X=cpdp.drop(['appointed_date','cleaned_rannk','closed_date','complaint_date','complaint_category','complaint_code','cv','final_finding','final_outcome','incident_date','link_uid','officer_birthyr','discipline','current_unit','time2close','number_complaint_code','race','gender','incident_month','time2complain'],axis=1)\n",
    "\n",
    "X= pd.get_dummies(X)\n",
    "y=cpdp.discipline\n",
    "\n",
    "xtr, xte, ytr, yte = train_test_split(X, y, test_size=0.2, stratify=y)\n",
    "\n",
    "ros = RandomUnderSampler(random_state=71)\n",
    "X_under, y_under = ros.fit_sample(xtr,ytr)"
   ]
  },
  {
   "cell_type": "code",
   "execution_count": null,
   "metadata": {
    "hidden": true
   },
   "outputs": [],
   "source": [
    "rfc = RandomForestClassifier(n_estimators=20)\n",
    "rfc.fit(X_under,y_under)"
   ]
  },
  {
   "cell_type": "code",
   "execution_count": null,
   "metadata": {
    "hidden": true
   },
   "outputs": [],
   "source": [
    "feats = {} # a dict to hold feature_name: feature_importance\n",
    "for feature, importance in zip(xtr.columns, rfc.feature_importances_):\n",
    "    feats[feature] = importance #add the name/value pair \n",
    "\n",
    "importances = pd.DataFrame.from_dict(feats, orient='index').rename(columns={0: 'Gini-importance'})\n",
    "\n",
    "importances.sort_values(by='Gini-importance').plot(kind='bar',figsize=(15,13));"
   ]
  },
  {
   "cell_type": "markdown",
   "metadata": {
    "heading_collapsed": true
   },
   "source": [
    "## Choosing models and parameters"
   ]
  },
  {
   "cell_type": "markdown",
   "metadata": {
    "heading_collapsed": true,
    "hidden": true
   },
   "source": [
    "### Naive Models"
   ]
  },
  {
   "cell_type": "markdown",
   "metadata": {
    "hidden": true
   },
   "source": [
    "I'm going to just try some very simple models and see what kind of results I get."
   ]
  },
  {
   "cell_type": "code",
   "execution_count": null,
   "metadata": {
    "hidden": true
   },
   "outputs": [],
   "source": [
    "logit = LogisticRegression()\n",
    "cross_val_score(logit, X_under, y_under, # estimator, features, target\n",
    "                cv=5, # number of folds \n",
    "                scoring='recall') # scoring metric"
   ]
  },
  {
   "cell_type": "code",
   "execution_count": null,
   "metadata": {
    "hidden": true
   },
   "outputs": [],
   "source": [
    "cross_val_score(logit, X_under, y_under, # estimator, features, target\n",
    "                cv=5, # number of folds \n",
    "                scoring='roc_auc') # scoring metric"
   ]
  },
  {
   "cell_type": "code",
   "execution_count": null,
   "metadata": {
    "hidden": true
   },
   "outputs": [],
   "source": [
    "rfc = RandomForestClassifier(n_estimators=20,max_depth=5)\n",
    "cross_val_score(rfc, X_under, y_under, # estimator, features, target\n",
    "                cv=5, # number of folds \n",
    "                scoring='recall') # scoring metric"
   ]
  },
  {
   "cell_type": "code",
   "execution_count": null,
   "metadata": {
    "hidden": true
   },
   "outputs": [],
   "source": [
    "rfc = RandomForestClassifier(n_estimators=20,max_depth=5)\n",
    "cross_val_score(rfc, X_under, y_under, # estimator, features, target\n",
    "                cv=5, # number of folds \n",
    "                scoring='roc_auc') # scoring metric"
   ]
  },
  {
   "cell_type": "markdown",
   "metadata": {
    "hidden": true
   },
   "source": [
    "A default logistic regression does better than a default RFC, but RFC gets better when I play with the parameters. Let's tune logistic and keep that as our baseline, and come back to RFC after we've checked some others."
   ]
  },
  {
   "cell_type": "markdown",
   "metadata": {
    "heading_collapsed": true,
    "hidden": true
   },
   "source": [
    "### Look for the best C for a Logistic regression"
   ]
  },
  {
   "cell_type": "code",
   "execution_count": null,
   "metadata": {
    "hidden": true
   },
   "outputs": [],
   "source": [
    "# Use a for loop to optimize C for undersampled data\n",
    "cList = [.001,.01, .1, 1, 10, 100, 1000]\n",
    "\n",
    "for c in cList:\n",
    "    logit=LogisticRegression(C=c)\n",
    "    logit.fit(X_under, y_under)\n",
    "    scoreRec = cross_val_score(logit, X_under, y_under, # estimator, features, target\n",
    "                cv=5, # number of folds \n",
    "                scoring='recall').mean()\n",
    "    scoreROC = cross_val_score(logit, X_under, y_under, # estimator, features, target\n",
    "                cv=5, # number of folds \n",
    "                scoring='roc_auc').mean()\n",
    "    print(\"C {} yields a recall of {} and a roc-auc of {}\".format(c,scoreRec,scoreROC))"
   ]
  },
  {
   "cell_type": "markdown",
   "metadata": {
    "hidden": true
   },
   "source": [
    "It seems like C doesn't really change much and the default of 1 is pretty okay."
   ]
  },
  {
   "cell_type": "markdown",
   "metadata": {
    "heading_collapsed": true,
    "hidden": true
   },
   "source": [
    "### Try and find the best K for K nearest neighbors"
   ]
  },
  {
   "cell_type": "code",
   "execution_count": null,
   "metadata": {
    "hidden": true
   },
   "outputs": [],
   "source": [
    "emptyklist = []\n",
    "for k in range(1,20):\n",
    "    knn = KNeighborsClassifier(n_neighbors=k)\n",
    "    knn.fit(X_under,y_under)\n",
    "    ypreds = knn.predict(xte)\n",
    "    emptyklist.append(recall_score(yte,ypreds))"
   ]
  },
  {
   "cell_type": "code",
   "execution_count": null,
   "metadata": {
    "hidden": true
   },
   "outputs": [],
   "source": [
    "max(emptyklist)"
   ]
  },
  {
   "cell_type": "markdown",
   "metadata": {
    "hidden": true
   },
   "source": [
    "The best K neighbors score SUCKS compared to logistic, so let's leave KNeighbors behind."
   ]
  },
  {
   "cell_type": "markdown",
   "metadata": {
    "heading_collapsed": true,
    "hidden": true
   },
   "source": [
    "### How about a Naive Bayes of some kind?"
   ]
  },
  {
   "cell_type": "markdown",
   "metadata": {
    "hidden": true
   },
   "source": [
    "I have 14 continuous columns and 17 binary columns, so I'll try Gaussian and Bernoulli."
   ]
  },
  {
   "cell_type": "code",
   "execution_count": null,
   "metadata": {
    "hidden": true
   },
   "outputs": [],
   "source": [
    "nb = BernoulliNB()\n",
    "nb.fit(X_under,y_under)\n",
    "cross_val_score(nb, X_under, y_under, # estimator, features, target\n",
    "                cv=5, # number of folds \n",
    "                scoring='recall') # scoring metric"
   ]
  },
  {
   "cell_type": "code",
   "execution_count": null,
   "metadata": {
    "hidden": true
   },
   "outputs": [],
   "source": [
    "nb = GaussianNB()\n",
    "nb.fit(X_under,y_under)\n",
    "cross_val_score(nb, X_under, y_under, # estimator, features, target\n",
    "                cv=5, # number of folds \n",
    "                scoring='recall') # scoring metric"
   ]
  },
  {
   "cell_type": "markdown",
   "metadata": {
    "hidden": true
   },
   "source": [
    "The scoring for both naive Bayes models is worse than my baseline logistic regression, so let's put this one aside."
   ]
  },
  {
   "cell_type": "markdown",
   "metadata": {
    "heading_collapsed": true,
    "hidden": true
   },
   "source": [
    "### How about a SVC? My datasets a little too big, so let's just look at Linear."
   ]
  },
  {
   "cell_type": "code",
   "execution_count": null,
   "metadata": {
    "hidden": true
   },
   "outputs": [],
   "source": [
    "# 1. Create a suppor vector classifier model\n",
    "model_svm = svm.LinearSVC()\n",
    "# 2. Fit a model on the training data\n",
    "model_svm.fit(X_under, y_under)\n",
    "cross_val_score(model_svm, X_under, y_under, # estimator, features, target\n",
    "                cv=5, # number of folds \n",
    "                scoring='recall') # scoring metric"
   ]
  },
  {
   "cell_type": "markdown",
   "metadata": {
    "hidden": true
   },
   "source": [
    "Wow, SVM is all over the place. That's scary AF. Screw that, let's go back to random forests."
   ]
  },
  {
   "cell_type": "markdown",
   "metadata": {
    "heading_collapsed": true,
    "hidden": true
   },
   "source": [
    "### Random Forest - tune for the number of estimators."
   ]
  },
  {
   "cell_type": "code",
   "execution_count": null,
   "metadata": {
    "hidden": true
   },
   "outputs": [],
   "source": [
    "nlist = []\n",
    "for n in range(1,300):\n",
    "    rfc = RandomForestClassifier(n_estimators=n)\n",
    "    model = rfc.fit(X_under,y_under)\n",
    "    score = cross_val_score(model, X_under, y_under, # estimator, features, target\n",
    "                cv=3, # number of folds \n",
    "                scoring='recall').mean()\n",
    "    nlist.append(score)\n",
    "    print(n, score) # scoring metric\n",
    "    "
   ]
  },
  {
   "cell_type": "markdown",
   "metadata": {
    "hidden": true
   },
   "source": [
    "Based on the output, the number of estimators stops adding value around 30, so let's just use that."
   ]
  },
  {
   "cell_type": "code",
   "execution_count": null,
   "metadata": {
    "hidden": true
   },
   "outputs": [],
   "source": [
    "dlist =[]\n",
    "for d in range(1,40):\n",
    "    rfc = RandomForestClassifier(n_estimators=30,max_depth=d)\n",
    "    model = rfc.fit(X_under,y_under)\n",
    "    score = cross_val_score(model, X_under, y_under, # estimator, features, target\n",
    "                cv=3, # number of folds \n",
    "                scoring='recall').mean()\n",
    "    dlist.append(score)\n",
    "    print(d, score) # scoring metric"
   ]
  },
  {
   "cell_type": "markdown",
   "metadata": {
    "hidden": true
   },
   "source": [
    "Based on the output of this loop, the max_depth stops adding value around 12-15, so let's just use that.\n",
    "\n",
    "Now let's compare our tuned random forest to our tuned logistic regression!"
   ]
  },
  {
   "cell_type": "code",
   "execution_count": null,
   "metadata": {
    "hidden": true
   },
   "outputs": [],
   "source": [
    "rfc=RandomForestClassifier(n_estimators=30,max_depth=12)\n",
    "model = rfc.fit(X_under,y_under)\n",
    "cross_val_score(model, X_under, y_under, # estimator, features, target\n",
    "                cv=5, # number of folds \n",
    "                scoring='roc_auc').mean()"
   ]
  },
  {
   "cell_type": "code",
   "execution_count": null,
   "metadata": {
    "hidden": true
   },
   "outputs": [],
   "source": [
    "logit = LogisticRegression(C=1,solver='liblinear')\n",
    "cross_val_score(logit, X_under, y_under, # estimator, features, target\n",
    "                cv=5, # number of folds \n",
    "                scoring='roc_auc').mean()"
   ]
  },
  {
   "cell_type": "markdown",
   "metadata": {
    "hidden": true
   },
   "source": [
    "Okay, so it looks like we are probably going to do a RandomForest! We'll come back to this."
   ]
  },
  {
   "cell_type": "markdown",
   "metadata": {
    "heading_collapsed": true
   },
   "source": [
    "## Using Class Weighting to Solve Imbalance problem"
   ]
  },
  {
   "cell_type": "markdown",
   "metadata": {
    "hidden": true
   },
   "source": [
    "I'm not super happy with how under-sampling dealt with my class imbalance problem, since I'm currently getting more false positives than I like, and I don't like throwing out so much of my data to balance my classes. I want to try penalizing misclassifications, using my raw data."
   ]
  },
  {
   "cell_type": "code",
   "execution_count": null,
   "metadata": {
    "hidden": true
   },
   "outputs": [],
   "source": [
    "lr_balanced = LogisticRegression(solver='liblinear',class_weight='balanced')\n",
    "cross_val_score(lr_balanced, xtr, ytr, # estimator, features, target\n",
    "                cv=5, # number of folds \n",
    "                scoring='roc_auc').mean()"
   ]
  },
  {
   "cell_type": "code",
   "execution_count": null,
   "metadata": {
    "hidden": true
   },
   "outputs": [],
   "source": [
    "lr = LogisticRegression(solver='liblinear')\n",
    "cross_val_score(lr, X_under, y_under, # estimator, features, target\n",
    "                cv=5, # number of folds \n",
    "                scoring='roc_auc').mean()"
   ]
  },
  {
   "cell_type": "markdown",
   "metadata": {
    "hidden": true
   },
   "source": [
    "The baseline 'balanced' parameter improves my score by .003. Let's try heavily emphasizing my minority class."
   ]
  },
  {
   "cell_type": "markdown",
   "metadata": {
    "hidden": true
   },
   "source": [
    "Let's do a quick for loop to optimize for my class weights. This will be with no resampling, just on my raw data."
   ]
  },
  {
   "cell_type": "code",
   "execution_count": null,
   "metadata": {
    "hidden": true
   },
   "outputs": [],
   "source": [
    "for w in range(1,20):\n",
    "    lr_4x = LogisticRegression(C=1,solver='liblinear',class_weight={1 : w, 0 : 1})\n",
    "    scoreRec = cross_val_score(lr_4x, xtr, ytr, # estimator, features, target\n",
    "                cv=3, # number of folds \n",
    "                scoring='recall').mean()\n",
    "    scoreROC = cross_val_score(lr_4x, xtr, ytr, # estimator, features, target\n",
    "                cv=3, # number of folds \n",
    "                scoring='roc_auc').mean()\n",
    "    print(\"W {} yields a recall of {} and a roc-auc of {}\".format(w,scoreRec,scoreROC))"
   ]
  },
  {
   "cell_type": "markdown",
   "metadata": {
    "hidden": true
   },
   "source": [
    "Around a weight of 15:1, I start to see a decrease in roc-auc score to go with my increased recall score, so I'll stop there. I'll try using these class-weights with some other models and see if I get improved results.\n",
    "\n",
    "For a logistic regression, I'm not really getting better results than I did with undersampling, but this seems at least a little more honest data-wise. \n",
    "\n",
    "It also like the synchronicity that my imbalance is about a 15:1 ratio, and the inverse weighting corrects it."
   ]
  },
  {
   "cell_type": "markdown",
   "metadata": {},
   "source": [
    "## Optimizing Random Forest"
   ]
  },
  {
   "cell_type": "markdown",
   "metadata": {},
   "source": [
    "Now that I think I want to use class-weighting rather than under-sampling, I'll go about optimizing parameters in a RandomForest model and determine if it is better than a Logistic Regression."
   ]
  },
  {
   "cell_type": "code",
   "execution_count": null,
   "metadata": {},
   "outputs": [],
   "source": [
    "# build a classifier\n",
    "clf = RandomForestClassifier()\n",
    "\n",
    "# Utility function to report best scores\n",
    "def report(results, n_top=3):\n",
    "    for i in range(1, n_top + 1):\n",
    "        candidates = np.flatnonzero(results['rank_test_score'] == i)\n",
    "        for candidate in candidates:\n",
    "            print(\"Model with rank: {0}\".format(i))\n",
    "            print(\"Mean validation score: {0:.3f} (std: {1:.3f})\".format(\n",
    "                  results['mean_test_score'][candidate],\n",
    "                  results['std_test_score'][candidate]))\n",
    "            print(\"Parameters: {0}\".format(results['params'][candidate]))\n",
    "            print(\"\")\n",
    "\n"
   ]
  },
  {
   "cell_type": "markdown",
   "metadata": {},
   "source": [
    "I'll look at a variety of depths, a variety of max_features, a variety of estimators, and a variety of class_weights to see what will be best for my model."
   ]
  },
  {
   "cell_type": "code",
   "execution_count": null,
   "metadata": {},
   "outputs": [],
   "source": [
    "# specify parameters and distributions to sample from\n",
    "param_dist = {\"max_depth\": list(range(1,20)),\n",
    "                \"n_estimators\":list(range(1,30)),\n",
    "             \"class_weight\":[{1 : 7, 0 : 1},{1 : 10, 0 : 1},{1 : 12, 0 : 1},{1 : 15, 0 : 1},{1 : 18, 0 : 1}]}\n",
    "\n",
    "# run randomized search\n",
    "n_iter_search = 20\n",
    "random_search = RandomizedSearchCV(clf, param_distributions=param_dist,\n",
    "                                   n_iter=n_iter_search, cv=5, iid=False,scoring='roc_auc')\n",
    "random_search.fit(xtr, ytr)\n",
    "report(random_search.cv_results_)"
   ]
  },
  {
   "cell_type": "code",
   "execution_count": 150,
   "metadata": {},
   "outputs": [],
   "source": [
    "opt_rfc = RandomForestClassifier(n_estimators=20,max_depth=9,class_weight={1:10,0:1})\n",
    "modelrfc = opt_rfc.fit(xtr,ytr)"
   ]
  },
  {
   "cell_type": "code",
   "execution_count": 151,
   "metadata": {},
   "outputs": [
    {
     "data": {
      "text/plain": [
       "array([[22327,  1576],\n",
       "       [  380,   967]])"
      ]
     },
     "execution_count": 151,
     "metadata": {},
     "output_type": "execute_result"
    }
   ],
   "source": [
    "ypred=modelrfc.predict(xte)\n",
    "confusion_matrix(yte,ypred)"
   ]
  },
  {
   "cell_type": "code",
   "execution_count": 152,
   "metadata": {},
   "outputs": [
    {
     "data": {
      "image/png": "[encoded data removed]",
      "text/plain": [
       "<Figure size 1080x936 with 1 Axes>"
      ]
     },
     "metadata": {
      "needs_background": "light"
     },
     "output_type": "display_data"
    }
   ],
   "source": [
    "feats = {} # a dict to hold feature_name: feature_importance\n",
    "for feature, importance in zip(xtr.columns, modelrfc.feature_importances_):\n",
    "    feats[feature] = importance #add the name/value pair \n",
    "\n",
    "importances = pd.DataFrame.from_dict(feats, orient='index').rename(columns={0: 'Gini-importance'})\n",
    "\n",
    "importances.sort_values(by='Gini-importance').plot(kind='bar',figsize=(15,13));"
   ]
  },
  {
   "cell_type": "markdown",
   "metadata": {
    "heading_collapsed": true
   },
   "source": [
    "## Optimize LogisticRegression and choose features for a simplified model for the app"
   ]
  },
  {
   "cell_type": "code",
   "execution_count": 248,
   "metadata": {
    "hidden": true
   },
   "outputs": [],
   "source": [
    "std = StandardScaler()\n",
    "std.fit(xtr.values)\n",
    "xsc = std.transform(xtr.values)\n",
    "xtesc = std.transform(xte.values)"
   ]
  },
  {
   "cell_type": "code",
   "execution_count": 256,
   "metadata": {
    "hidden": true
   },
   "outputs": [
    {
     "data": {
      "text/plain": [
       "array([[18879,  1475],\n",
       "       [  305,   852]])"
      ]
     },
     "execution_count": 256,
     "metadata": {},
     "output_type": "execute_result"
    }
   ],
   "source": [
    "logit = LogisticRegression(solver='liblinear',class_weight={1:12,0:1})\n",
    "model_log = logit.fit(xtr,ytr)\n",
    "ypred = model_log.predict(xte)\n",
    "confusion_matrix(yte,ypred)"
   ]
  },
  {
   "cell_type": "code",
   "execution_count": 258,
   "metadata": {
    "hidden": true
   },
   "outputs": [],
   "source": [
    "pickle.dump(model_log, open('logistic_model.p', 'wb'))"
   ]
  },
  {
   "cell_type": "code",
   "execution_count": 194,
   "metadata": {
    "hidden": true
   },
   "outputs": [
    {
     "data": {
      "text/plain": [
       "0.7363872082973206"
      ]
     },
     "execution_count": 194,
     "metadata": {},
     "output_type": "execute_result"
    }
   ],
   "source": [
    "recall_score(yte,ypred)"
   ]
  },
  {
   "cell_type": "code",
   "execution_count": 221,
   "metadata": {
    "hidden": true
   },
   "outputs": [
    {
     "data": {
      "text/plain": [
       "0.9170191994793362"
      ]
     },
     "execution_count": 221,
     "metadata": {},
     "output_type": "execute_result"
    }
   ],
   "source": [
    "accuracy_score(yte,ypred)"
   ]
  },
  {
   "cell_type": "code",
   "execution_count": 222,
   "metadata": {
    "hidden": true
   },
   "outputs": [],
   "source": [
    "coefs = (model_log.coef_[0]).tolist()\n",
    "xtrcol = xtr.columns.tolist()\n",
    "\n",
    "scaled_logit_coefs = list(zip(xtrcol,coefs))"
   ]
  },
  {
   "cell_type": "code",
   "execution_count": 225,
   "metadata": {
    "hidden": true
   },
   "outputs": [
    {
     "data": {
      "text/plain": [
       "[('abuse_ct', -0.6738347910638444),\n",
       " ('age_off_comp', 0.10147725585558061),\n",
       " ('civil_ct', -0.9494015045163684),\n",
       " ('corrupt_ct', -0.09928988352531136),\n",
       " ('num_awards', -0.1842247424927668),\n",
       " ('num_coindicated', -0.05136672112885396),\n",
       " ('num_complaints', 1.6573010111281385),\n",
       " ('numwitnesses', 0.3576146082808356),\n",
       " ('operations_ct', -0.40750905302942286),\n",
       " ('substance_ct', 0.0312012434843354),\n",
       " ('time_on_force', -0.11829975169351813),\n",
       " ('not_operations', 0.15099110267900717),\n",
       " ('injury', 0.003220609262844392),\n",
       " ('administrator', -0.1101159686413002),\n",
       " ('copa_style', -0.26577038407289255),\n",
       " ('search', -0.8356803335395285),\n",
       " ('reform', -0.28929486156892836),\n",
       " ('officer_filed_False', -0.45361609299890704),\n",
       " ('officer_filed_True', 0.537863088629363),\n",
       " ('officer_filed_Unknown', -0.23890269488073515),\n",
       " ('officer_gender_FEMALE', 0.01729263461667737),\n",
       " ('officer_gender_MALE', -0.017292634616626414),\n",
       " ('officer_race_ASIAN/PACIFIC ISLANDER', 0.011532620554371514),\n",
       " ('officer_race_BLACK', 0.08838423587790345),\n",
       " ('officer_race_HISPANIC', 0.0016951376911112993),\n",
       " ('officer_race_NATIVE AMERICAN/ALASKAN NATIVE', -0.002301827790160085),\n",
       " ('officer_race_WHITE', -0.0805962031684662)]"
      ]
     },
     "execution_count": 225,
     "metadata": {},
     "output_type": "execute_result"
    }
   ],
   "source": [
    "scaled_logit_coefs"
   ]
  },
  {
   "cell_type": "markdown",
   "metadata": {
    "heading_collapsed": true
   },
   "source": [
    "## Rebuild a simpler Random Forest model with minimal features to make the Flask app more user friendly"
   ]
  },
  {
   "cell_type": "code",
   "execution_count": 339,
   "metadata": {
    "hidden": true
   },
   "outputs": [],
   "source": [
    "cpdp['officer_age']=cpdp['age_off_comp']//365\n",
    "cpdp['yrs_force']=cpdp['time_on_force']//365\n",
    "X=cpdp.drop(['appointed_date','age_off_comp','time_on_force','discipline','cleaned_rannk','closed_date','complaint_date','complaint_category','complaint_code','cv','final_finding','final_outcome','incident_date','link_uid','officer_birthyr','current_unit','time2close','number_complaint_code','race','gender','incident_month','time2complain',\"officer_gender\",'officer_race','substance_ct','num_coindicated','administrator','injury','corrupt_ct','not_operations'],axis=1)\n",
    "\n",
    "\n",
    "X= pd.get_dummies(X)\n",
    "y=cpdp.discipline\n",
    "\n",
    "xtr, xte, ytr, yte = train_test_split(X, y, test_size=0.2, stratify=y)\n"
   ]
  },
  {
   "cell_type": "code",
   "execution_count": 340,
   "metadata": {
    "hidden": true
   },
   "outputs": [
    {
     "data": {
      "text/plain": [
       "array([[18997,  1357],\n",
       "       [  317,   840]])"
      ]
     },
     "execution_count": 340,
     "metadata": {},
     "output_type": "execute_result"
    }
   ],
   "source": [
    "opt_rfc = RandomForestClassifier(n_estimators=20,max_depth=9,class_weight={1:10,0:1})\n",
    "modelrfc = opt_rfc.fit(xtr,ytr)\n",
    "\n",
    "ypred=modelrfc.predict(xte)\n",
    "confusion_matrix(yte,ypred)\n"
   ]
  },
  {
   "cell_type": "code",
   "execution_count": 341,
   "metadata": {
    "hidden": true
   },
   "outputs": [
    {
     "data": {
      "text/plain": [
       "0.7260155574762316"
      ]
     },
     "execution_count": 341,
     "metadata": {},
     "output_type": "execute_result"
    }
   ],
   "source": [
    "recall_score(yte,ypred)"
   ]
  },
  {
   "cell_type": "code",
   "execution_count": 379,
   "metadata": {
    "hidden": true
   },
   "outputs": [],
   "source": [
    "pickle.dump(modelrfc, open('modelrfc.p', 'wb'))"
   ]
  },
  {
   "cell_type": "code",
   "execution_count": 342,
   "metadata": {
    "hidden": true
   },
   "outputs": [
    {
     "data": {
      "image/png": "[encoded data removed]",
      "text/plain": [
       "<Figure size 1080x936 with 1 Axes>"
      ]
     },
     "metadata": {
      "needs_background": "light"
     },
     "output_type": "display_data"
    }
   ],
   "source": [
    "feats = {} # a dict to hold feature_name: feature_importance\n",
    "for feature, importance in zip(xtr.columns, modelrfc.feature_importances_):\n",
    "    feats[feature] = importance #add the name/value pair \n",
    "\n",
    "importances = pd.DataFrame.from_dict(feats, orient='index').rename(columns={0: 'Gini-importance'})\n",
    "\n",
    "importances.sort_values(by='Gini-importance').plot(kind='bar',figsize=(15,13));"
   ]
  },
  {
   "cell_type": "markdown",
   "metadata": {
    "heading_collapsed": true
   },
   "source": [
    "## Make a smaller dataframe that contains small, class-balanced subsamples of my data for datavis"
   ]
  },
  {
   "cell_type": "code",
   "execution_count": 198,
   "metadata": {
    "hidden": true
   },
   "outputs": [],
   "source": [
    "X2=cpdp.drop(['appointed_date','cleaned_rannk','closed_date','complaint_category','complaint_code','cv','final_finding','final_outcome','incident_date','link_uid','officer_birthyr','current_unit','time2close','number_complaint_code','race','gender','incident_month','time2complain'],axis=1)\n",
    "X2= pd.get_dummies(X2)\n",
    "all_disc = X2[X2['discipline']==1]\n",
    "no_disc = X2[X2['discipline']==0]"
   ]
  },
  {
   "cell_type": "code",
   "execution_count": 199,
   "metadata": {
    "hidden": true
   },
   "outputs": [],
   "source": [
    "rand_YesDisc = all_disc.sample(400,random_state=23)\n",
    "rand_NoDisc = no_disc.sample(400,random_state=23)"
   ]
  },
  {
   "cell_type": "code",
   "execution_count": 200,
   "metadata": {
    "hidden": true
   },
   "outputs": [],
   "source": [
    "test = pd.concat([rand_YesDisc,rand_NoDisc])"
   ]
  },
  {
   "cell_type": "code",
   "execution_count": 218,
   "metadata": {
    "hidden": true
   },
   "outputs": [
    {
     "data": {
      "text/plain": [
       "(20354,)"
      ]
     },
     "execution_count": 218,
     "metadata": {},
     "output_type": "execute_result"
    }
   ],
   "source": [
    "yte[yte==0].shape"
   ]
  },
  {
   "cell_type": "code",
   "execution_count": 217,
   "metadata": {
    "hidden": true
   },
   "outputs": [],
   "source": [
    "test.to_csv('tryout_vis.csv')"
   ]
  },
  {
   "cell_type": "markdown",
   "metadata": {},
   "source": [
    "## Making predictions on undecided or unknown complaints"
   ]
  },
  {
   "cell_type": "code",
   "execution_count": 364,
   "metadata": {},
   "outputs": [],
   "source": [
    "# Do some touch up cleaning on the unknown complaints, and get it ready for modelling\n",
    "unk = pd.read_pickle('data/unknown_complaints')\n",
    "unk.set_index('cr_id',inplace=True)\n",
    "\n",
    "unk['age_off_comp']=unk['age_off_comp'].dt.days\n",
    "unk['time_on_force']=unk['time_on_force'].dt.days\n",
    "unk['officer_age']=unk['age_off_comp']//365\n",
    "unk['yrs_force']=unk['time_on_force']//365\n",
    "unk_X= unk.drop(['numcomplainants','appointed_date','age_off_comp','uid','time_on_force','cleaned_rannk','closed_date','complaint_date','complaint_category','complaint_code','cv','final_finding','final_outcome','incident_date','link_uid','officer_birthyr','current_unit','time2close','number_complaint_code','incident_month','time2complain',\"officer_gender\",'officer_race','substance_ct','num_coindicated','administrator','injury','corrupt_ct','not_operations'],axis=1)\n",
    "unk_X = pd.get_dummies(unk_X)\n",
    "unk_X['officer_filed_Unknown']=0\n",
    "unk_X.numwitnesses.fillna(0,inplace=True)\n",
    "unk_X.dropna(inplace=True)"
   ]
  },
  {
   "cell_type": "code",
   "execution_count": 373,
   "metadata": {},
   "outputs": [],
   "source": [
    "# Limit the data to post-IPRA complaints to avoid criticism like \"it's all changed since IPRA\"\n",
    "unk_X_r =unk_X[unk_X['reform']==1]"
   ]
  },
  {
   "cell_type": "code",
   "execution_count": 312,
   "metadata": {},
   "outputs": [],
   "source": [
    "unk_pred = modelrfc.predict(unk_X_r)\n",
    "unk_X_r['predictions']=unk_pred\n",
    "unk_X_r.predictions.mean()"
   ]
  },
  {
   "cell_type": "code",
   "execution_count": 386,
   "metadata": {},
   "outputs": [
    {
     "data": {
      "text/html": [
       "<div>\n",
       "<style scoped>\n",
       "    .dataframe tbody tr th:only-of-type {\n",
       "        vertical-align: middle;\n",
       "    }\n",
       "\n",
       "    .dataframe tbody tr th {\n",
       "        vertical-align: top;\n",
       "    }\n",
       "\n",
       "    .dataframe thead th {\n",
       "        text-align: right;\n",
       "    }\n",
       "</style>\n",
       "<table border=\"1\" class=\"dataframe\">\n",
       "  <thead>\n",
       "    <tr style=\"text-align: right;\">\n",
       "      <th></th>\n",
       "      <th>numwitnesses</th>\n",
       "      <th>num_awards</th>\n",
       "      <th>num_complaints</th>\n",
       "      <th>operations_ct</th>\n",
       "      <th>civil_ct</th>\n",
       "      <th>abuse_ct</th>\n",
       "      <th>reform</th>\n",
       "      <th>copa_style</th>\n",
       "      <th>search</th>\n",
       "      <th>officer_age</th>\n",
       "      <th>yrs_force</th>\n",
       "      <th>officer_filed_False</th>\n",
       "      <th>officer_filed_True</th>\n",
       "      <th>officer_filed_Unknown</th>\n",
       "      <th>predictions</th>\n",
       "    </tr>\n",
       "    <tr>\n",
       "      <th>cr_id</th>\n",
       "      <th></th>\n",
       "      <th></th>\n",
       "      <th></th>\n",
       "      <th></th>\n",
       "      <th></th>\n",
       "      <th></th>\n",
       "      <th></th>\n",
       "      <th></th>\n",
       "      <th></th>\n",
       "      <th></th>\n",
       "      <th></th>\n",
       "      <th></th>\n",
       "      <th></th>\n",
       "      <th></th>\n",
       "      <th></th>\n",
       "    </tr>\n",
       "  </thead>\n",
       "  <tbody>\n",
       "    <tr>\n",
       "      <td>1017454</td>\n",
       "      <td>1.0</td>\n",
       "      <td>82.0</td>\n",
       "      <td>9.0</td>\n",
       "      <td>3.0</td>\n",
       "      <td>3.0</td>\n",
       "      <td>2.0</td>\n",
       "      <td>1</td>\n",
       "      <td>0</td>\n",
       "      <td>0</td>\n",
       "      <td>50</td>\n",
       "      <td>4</td>\n",
       "      <td>1</td>\n",
       "      <td>0</td>\n",
       "      <td>0</td>\n",
       "      <td>0</td>\n",
       "    </tr>\n",
       "    <tr>\n",
       "      <td>1070814</td>\n",
       "      <td>4.0</td>\n",
       "      <td>165.0</td>\n",
       "      <td>20.0</td>\n",
       "      <td>3.0</td>\n",
       "      <td>9.0</td>\n",
       "      <td>7.0</td>\n",
       "      <td>1</td>\n",
       "      <td>1</td>\n",
       "      <td>1</td>\n",
       "      <td>32</td>\n",
       "      <td>6</td>\n",
       "      <td>1</td>\n",
       "      <td>0</td>\n",
       "      <td>0</td>\n",
       "      <td>0</td>\n",
       "    </tr>\n",
       "    <tr>\n",
       "      <td>1048715</td>\n",
       "      <td>2.0</td>\n",
       "      <td>39.0</td>\n",
       "      <td>30.0</td>\n",
       "      <td>16.0</td>\n",
       "      <td>3.0</td>\n",
       "      <td>10.0</td>\n",
       "      <td>1</td>\n",
       "      <td>0</td>\n",
       "      <td>0</td>\n",
       "      <td>40</td>\n",
       "      <td>9</td>\n",
       "      <td>1</td>\n",
       "      <td>0</td>\n",
       "      <td>0</td>\n",
       "      <td>0</td>\n",
       "    </tr>\n",
       "    <tr>\n",
       "      <td>1078293</td>\n",
       "      <td>4.0</td>\n",
       "      <td>11.0</td>\n",
       "      <td>2.0</td>\n",
       "      <td>1.0</td>\n",
       "      <td>0.0</td>\n",
       "      <td>0.0</td>\n",
       "      <td>1</td>\n",
       "      <td>0</td>\n",
       "      <td>0</td>\n",
       "      <td>36</td>\n",
       "      <td>2</td>\n",
       "      <td>0</td>\n",
       "      <td>1</td>\n",
       "      <td>0</td>\n",
       "      <td>0</td>\n",
       "    </tr>\n",
       "    <tr>\n",
       "      <td>1067835</td>\n",
       "      <td>2.0</td>\n",
       "      <td>45.0</td>\n",
       "      <td>17.0</td>\n",
       "      <td>10.0</td>\n",
       "      <td>1.0</td>\n",
       "      <td>6.0</td>\n",
       "      <td>1</td>\n",
       "      <td>1</td>\n",
       "      <td>0</td>\n",
       "      <td>46</td>\n",
       "      <td>17</td>\n",
       "      <td>1</td>\n",
       "      <td>0</td>\n",
       "      <td>0</td>\n",
       "      <td>0</td>\n",
       "    </tr>\n",
       "    <tr>\n",
       "      <td>1015971</td>\n",
       "      <td>0.0</td>\n",
       "      <td>66.0</td>\n",
       "      <td>16.0</td>\n",
       "      <td>11.0</td>\n",
       "      <td>4.0</td>\n",
       "      <td>1.0</td>\n",
       "      <td>1</td>\n",
       "      <td>0</td>\n",
       "      <td>0</td>\n",
       "      <td>33</td>\n",
       "      <td>4</td>\n",
       "      <td>1</td>\n",
       "      <td>0</td>\n",
       "      <td>0</td>\n",
       "      <td>0</td>\n",
       "    </tr>\n",
       "    <tr>\n",
       "      <td>1077887</td>\n",
       "      <td>2.0</td>\n",
       "      <td>141.0</td>\n",
       "      <td>15.0</td>\n",
       "      <td>5.0</td>\n",
       "      <td>5.0</td>\n",
       "      <td>4.0</td>\n",
       "      <td>1</td>\n",
       "      <td>1</td>\n",
       "      <td>1</td>\n",
       "      <td>45</td>\n",
       "      <td>8</td>\n",
       "      <td>1</td>\n",
       "      <td>0</td>\n",
       "      <td>0</td>\n",
       "      <td>0</td>\n",
       "    </tr>\n",
       "    <tr>\n",
       "      <td>1057800</td>\n",
       "      <td>2.0</td>\n",
       "      <td>53.0</td>\n",
       "      <td>63.0</td>\n",
       "      <td>9.0</td>\n",
       "      <td>27.0</td>\n",
       "      <td>23.0</td>\n",
       "      <td>1</td>\n",
       "      <td>1</td>\n",
       "      <td>0</td>\n",
       "      <td>37</td>\n",
       "      <td>10</td>\n",
       "      <td>1</td>\n",
       "      <td>0</td>\n",
       "      <td>0</td>\n",
       "      <td>0</td>\n",
       "    </tr>\n",
       "    <tr>\n",
       "      <td>1053884</td>\n",
       "      <td>2.0</td>\n",
       "      <td>207.0</td>\n",
       "      <td>13.0</td>\n",
       "      <td>1.0</td>\n",
       "      <td>5.0</td>\n",
       "      <td>5.0</td>\n",
       "      <td>1</td>\n",
       "      <td>1</td>\n",
       "      <td>1</td>\n",
       "      <td>31</td>\n",
       "      <td>7</td>\n",
       "      <td>1</td>\n",
       "      <td>0</td>\n",
       "      <td>0</td>\n",
       "      <td>0</td>\n",
       "    </tr>\n",
       "    <tr>\n",
       "      <td>1073411</td>\n",
       "      <td>5.0</td>\n",
       "      <td>33.0</td>\n",
       "      <td>12.0</td>\n",
       "      <td>4.0</td>\n",
       "      <td>5.0</td>\n",
       "      <td>2.0</td>\n",
       "      <td>1</td>\n",
       "      <td>0</td>\n",
       "      <td>0</td>\n",
       "      <td>37</td>\n",
       "      <td>13</td>\n",
       "      <td>0</td>\n",
       "      <td>1</td>\n",
       "      <td>0</td>\n",
       "      <td>1</td>\n",
       "    </tr>\n",
       "  </tbody>\n",
       "</table>\n",
       "</div>"
      ],
      "text/plain": [
       "         numwitnesses  num_awards  num_complaints  operations_ct  civil_ct  \\\n",
       "cr_id                                                                        \n",
       "1017454           1.0        82.0             9.0            3.0       3.0   \n",
       "1070814           4.0       165.0            20.0            3.0       9.0   \n",
       "1048715           2.0        39.0            30.0           16.0       3.0   \n",
       "1078293           4.0        11.0             2.0            1.0       0.0   \n",
       "1067835           2.0        45.0            17.0           10.0       1.0   \n",
       "1015971           0.0        66.0            16.0           11.0       4.0   \n",
       "1077887           2.0       141.0            15.0            5.0       5.0   \n",
       "1057800           2.0        53.0            63.0            9.0      27.0   \n",
       "1053884           2.0       207.0            13.0            1.0       5.0   \n",
       "1073411           5.0        33.0            12.0            4.0       5.0   \n",
       "\n",
       "         abuse_ct  reform  copa_style  search  officer_age  yrs_force  \\\n",
       "cr_id                                                                   \n",
       "1017454       2.0       1           0       0           50          4   \n",
       "1070814       7.0       1           1       1           32          6   \n",
       "1048715      10.0       1           0       0           40          9   \n",
       "1078293       0.0       1           0       0           36          2   \n",
       "1067835       6.0       1           1       0           46         17   \n",
       "1015971       1.0       1           0       0           33          4   \n",
       "1077887       4.0       1           1       1           45          8   \n",
       "1057800      23.0       1           1       0           37         10   \n",
       "1053884       5.0       1           1       1           31          7   \n",
       "1073411       2.0       1           0       0           37         13   \n",
       "\n",
       "         officer_filed_False  officer_filed_True  officer_filed_Unknown  \\\n",
       "cr_id                                                                     \n",
       "1017454                    1                   0                      0   \n",
       "1070814                    1                   0                      0   \n",
       "1048715                    1                   0                      0   \n",
       "1078293                    0                   1                      0   \n",
       "1067835                    1                   0                      0   \n",
       "1015971                    1                   0                      0   \n",
       "1077887                    1                   0                      0   \n",
       "1057800                    1                   0                      0   \n",
       "1053884                    1                   0                      0   \n",
       "1073411                    0                   1                      0   \n",
       "\n",
       "         predictions  \n",
       "cr_id                 \n",
       "1017454            0  \n",
       "1070814            0  \n",
       "1048715            0  \n",
       "1078293            0  \n",
       "1067835            0  \n",
       "1015971            0  \n",
       "1077887            0  \n",
       "1057800            0  \n",
       "1053884            0  \n",
       "1073411            1  "
      ]
     },
     "execution_count": 386,
     "metadata": {},
     "output_type": "execute_result"
    }
   ],
   "source": [
    "# What percent of unknown complaints does the model think should lead to discipline?\n",
    "unk_X_r"
   ]
  }
 ],
 "metadata": {
  "kernelspec": {
   "display_name": "Python [conda env:metis] *",
   "language": "python",
   "name": "conda-env-metis-py"
  },
  "language_info": {
   "codemirror_mode": {
    "name": "ipython",
    "version": 3
   },
   "file_extension": ".py",
   "mimetype": "text/x-python",
   "name": "python",
   "nbconvert_exporter": "python",
   "pygments_lexer": "ipython3",
   "version": "3.7.3"
  },
  "toc": {
   "base_numbering": 1,
   "nav_menu": {},
   "number_sections": true,
   "sideBar": true,
   "skip_h1_title": false,
   "title_cell": "Table of Contents",
   "title_sidebar": "Contents",
   "toc_cell": false,
   "toc_position": {},
   "toc_section_display": true,
   "toc_window_display": false
  },
  "varInspector": {
   "cols": {
    "lenName": 16,
    "lenType": 16,
    "lenVar": 40
   },
   "kernels_config": {
    "python": {
     "delete_cmd_postfix": "",
     "delete_cmd_prefix": "del ",
     "library": "var_list.py",
     "varRefreshCmd": "print(var_dic_list())"
    },
    "r": {
     "delete_cmd_postfix": ") ",
     "delete_cmd_prefix": "rm(",
     "library": "var_list.r",
     "varRefreshCmd": "cat(var_dic_list()) "
    }
   },
   "types_to_exclude": [
    "module",
    "function",
    "builtin_function_or_method",
    "instance",
    "_Feature"
   ],
   "window_display": false
  }
 },
 "nbformat": 4,
 "nbformat_minor": 2
}
