{
 "cells": [
  {
   "cell_type": "code",
   "execution_count": 68,
   "metadata": {},
   "outputs": [],
   "source": [
    "import pandas as pd\n",
    "import numpy as np\n",
    "import re\n",
    "\n",
    "# Get pandas and postgres to work together\n",
    "import psycopg2 as pg\n",
    "import pandas as pd\n",
    "import pandas.io.sql as pd_sql\n",
    "\n"
   ]
  },
  {
   "cell_type": "code",
   "execution_count": 6,
   "metadata": {},
   "outputs": [],
   "source": [
    "# set up arguments needed to connect to AWS through psycopg2 and connect\n",
    "connection_args = {\n",
    "    'host': '3.14.5.169',  \n",
    "    'user': 'ubuntu',\n",
    "    'dbname': 'cpdp',  \n",
    "    'port': 5432          \n",
    "}\n",
    "connection = pg.connect(**connection_args)\n",
    "\n",
    "from psycopg2.extensions import ISOLATION_LEVEL_AUTOCOMMIT\n",
    "connection.set_isolation_level(ISOLATION_LEVEL_AUTOCOMMIT)"
   ]
  },
  {
   "cell_type": "markdown",
   "metadata": {
    "heading_collapsed": true
   },
   "source": [
    "## SQL Queries and Basic Division of Data"
   ]
  },
  {
   "cell_type": "code",
   "execution_count": null,
   "metadata": {
    "hidden": true
   },
   "outputs": [],
   "source": [
    "#Import outcomes of all complaints\n",
    "query = \"SELECT * FROM outcomes;\"\n",
    "outcomes_df = pd_sql.read_sql(query, connection)\n",
    "outcomes_df.to_pickle('outcomes_df')"
   ]
  },
  {
   "cell_type": "code",
   "execution_count": 7,
   "metadata": {
    "hidden": true
   },
   "outputs": [],
   "source": [
    "outcomes_df = pd.read_pickle('outcomes_df')"
   ]
  },
  {
   "cell_type": "code",
   "execution_count": 17,
   "metadata": {
    "hidden": true
   },
   "outputs": [],
   "source": [
    "# Isolate the category of complaint type (indicated by number)\n",
    "outcomes_df['number_complaint_code']=outcomes_df['complaint_code'].str.extract(\"([0-9]+)\")\n",
    "\n",
    "# Drop the recommendation columns (only apply to recent complaints)\n",
    "outcomes_nr =outcomes_df.drop(['recc_finding','recc_outcome'],axis=1)\n",
    "outcomes_nr['officer_filed']=outcomes_nr['cr_id'].isin(comp23_off.cr_id)\n",
    "\n",
    "#Divide up outcomes data by 3 periods of police reform\n",
    "outcomes_cv1 = outcomes_nr[outcomes_nr['cv']==1]\n",
    "outcomes_cv23 = outcomes_nr[(outcomes_nr['cv']==3)|(outcomes_nr['cv']==2)]"
   ]
  },
  {
   "cell_type": "code",
   "execution_count": null,
   "metadata": {
    "hidden": true
   },
   "outputs": [],
   "source": [
    "# Import complaints by everyone from cv 1\n",
    "query = \"SELECT * FROM comp_cv1;\"\n",
    "comp1_df = pd_sql.read_sql(query, connection)\n",
    "comp1_df.to_pickle('comp1_df')\n",
    "\n",
    "# Drop complaints where little detail about complainants exists (not a high #)\n",
    "comp1_df.dropna(inplace=True)\n",
    "# Get mode of race, gender and birthday for complaints where there were multiple complainants\n",
    "comp1_modes = comp1_df.groupby('cr_id').agg(lambda x:x.value_counts().index[0] )\n",
    "\n",
    "# Join demographic complainant data from CV1 with the outcomes df\n",
    "comp1_out = comp1_modes.join(outcomes_cv1.set_index('cr_id'),on='cr_id',how='right')\n",
    "\n",
    "# For complaints where no complainant data was provided, fill in 'Unknown'\n",
    "comp1_out.fillna('Unknown',inplace=True)"
   ]
  },
  {
   "cell_type": "code",
   "execution_count": null,
   "metadata": {
    "hidden": true
   },
   "outputs": [],
   "source": [
    "# Import complaint witnesses by everyone from cv 1\n",
    "query = \"SELECT * FROM wit_cv1_all;\"\n",
    "wit1_df = pd_sql.read_sql(query, connection)"
   ]
  },
  {
   "cell_type": "code",
   "execution_count": null,
   "metadata": {
    "hidden": true
   },
   "outputs": [],
   "source": [
    "# Import roster of police officers\n",
    "query = \"SELECT * FROM officers;\"\n",
    "officers = pd_sql.read_sql(query, connection)"
   ]
  },
  {
   "cell_type": "code",
   "execution_count": null,
   "metadata": {
    "hidden": true
   },
   "outputs": [],
   "source": [
    "# Import awards list\n",
    "query = \"SELECT * FROM awards;\"\n",
    "awards= pd_sql.read_sql(query, connection)"
   ]
  },
  {
   "cell_type": "code",
   "execution_count": 15,
   "metadata": {
    "hidden": true
   },
   "outputs": [],
   "source": [
    "# Import complaints by civilians from cv 2/3\n",
    "query = \"SELECT * FROM comp_cv23_civ;\"\n",
    "comp23_civ = pd_sql.read_sql(query, connection)\n",
    "comp23_civ.to_pickle('comp23_civ')"
   ]
  },
  {
   "cell_type": "code",
   "execution_count": 16,
   "metadata": {
    "hidden": true
   },
   "outputs": [],
   "source": [
    "# Import complaint details from all eras\n",
    "query = \"SELECT * FROM complaints;\"\n",
    "comp_det = pd_sql.read_sql(query, connection)"
   ]
  },
  {
   "cell_type": "code",
   "execution_count": 14,
   "metadata": {
    "hidden": true
   },
   "outputs": [],
   "source": [
    "# Import officer witnesses from cv 2/3\n",
    "query = \"SELECT * FROM wit_cv23_off;\"\n",
    "wit23_off = pd_sql.read_sql(query2, connection)\n"
   ]
  },
  {
   "cell_type": "code",
   "execution_count": 13,
   "metadata": {
    "hidden": true
   },
   "outputs": [
    {
     "name": "stderr",
     "output_type": "stream",
     "text": [
      "/Users/ivy/anaconda3/envs/metis/lib/python3.7/site-packages/ipykernel_launcher.py:9: FutureWarning: Sorting because non-concatenation axis is not aligned. A future version\n",
      "of pandas will change to not sort by default.\n",
      "\n",
      "To accept the future behavior, pass 'sort=False'.\n",
      "\n",
      "To retain the current behavior and silence the warning, pass 'sort=True'.\n",
      "\n",
      "  if __name__ == '__main__':\n"
     ]
    }
   ],
   "source": [
    "# Import civilian witness from cv 2\n",
    "query2 = \"SELECT * FROM wit_cv2_civ;\"\n",
    "wit2_civ = pd_sql.read_sql(query2, connection)\n",
    "\n",
    "# Import civilian witness from cv 3\n",
    "query3 = \"SELECT * FROM wit_cv3_civ;\"\n",
    "wit3_civ = pd_sql.read_sql(query3, connection)\n",
    "\n",
    "wit_cv23=pd.concat([wit2_civ,wit3_civ],axis=0)"
   ]
  },
  {
   "cell_type": "code",
   "execution_count": 12,
   "metadata": {
    "hidden": true
   },
   "outputs": [],
   "source": [
    "# Import complaints by officers from cv 2/3\n",
    "query = \"SELECT * FROM comp_cv23_off;\"\n",
    "comp23_off = pd_sql.read_sql(query, connection)"
   ]
  },
  {
   "cell_type": "markdown",
   "metadata": {
    "heading_collapsed": true
   },
   "source": [
    "## Cleaning up the complaint data from 1967-1999 (CV1)"
   ]
  },
  {
   "cell_type": "code",
   "execution_count": 19,
   "metadata": {
    "hidden": true
   },
   "outputs": [],
   "source": [
    "# Divide up the detailed complaint info amongst data collection period\n",
    "comp_det_sm =comp_det.drop(['add1','add2','city','full_address','location'],axis=1)\n",
    "compdet_cv1 = comp_det_sm[comp_det_sm['cv']==1]\n",
    "compdet_cv23 = comp_det_sm[(comp_det_sm['cv']==2)|(comp_det_sm['cv']==3)]"
   ]
  },
  {
   "cell_type": "code",
   "execution_count": null,
   "metadata": {
    "hidden": true
   },
   "outputs": [],
   "source": [
    "# Convert date details about complaints into datetime features\n",
    "compdet_cv1['incident_dt']=pd.to_datetime(compdet_cv1['incident_date'])\n",
    "compdet_cv1['complaint_dt']=pd.to_datetime(compdet_cv1['complaint_date'])\n",
    "compdet_cv1['closed_dt']=pd.to_datetime(compdet_cv1['closed_date'])"
   ]
  },
  {
   "cell_type": "code",
   "execution_count": null,
   "metadata": {
    "hidden": true
   },
   "outputs": [],
   "source": [
    "# Engineer features that indicate time between complaint and incident, and duration of investigation\n",
    "compdet_cv1['time2complain']=(compdet_cv1.complaint_dt-compdet_cv1.incident_dt)\n",
    "compdet_cv1['time2close']=(compdet_cv1.closed_dt-compdet_cv1.complaint_dt)"
   ]
  },
  {
   "cell_type": "code",
   "execution_count": null,
   "metadata": {
    "hidden": true
   },
   "outputs": [],
   "source": [
    "#Make a smaller DF with most relevant columns and pickle it\n",
    "compdet_cv1 = compdet_cv1[['cr_id','cv','beat','incident_dt','complaint_dt','closed_dt','time2complain','time2close']]\n",
    "compdet_cv1.drop('beat',axis=1,inplace=True)\n",
    "compdet_cv1.to_pickle('compdet_cv1_df')"
   ]
  },
  {
   "cell_type": "markdown",
   "metadata": {
    "heading_collapsed": true,
    "hidden": true
   },
   "source": [
    "### Counting the number of witnesses for each complaint, and noting whether officers were complainants"
   ]
  },
  {
   "cell_type": "code",
   "execution_count": null,
   "metadata": {
    "hidden": true
   },
   "outputs": [],
   "source": [
    "# Count the number of witnesses for each complaint, and join \n",
    "# it with the total dataframe for CV1\n",
    "numwit1 = pd.DataFrame(wit1_df.cr_id.value_counts())\n",
    "numwit1.columns=['numwitnesses']\n",
    "numwit1.index.name='cr_id'\n",
    "comp1_out_wit = comp1_out.join(numwit1,on='cr_id')\n",
    "\n",
    "# Replace NA values with zeros since there were no recorded witnesses\n",
    "comp1_out_wit.numwitnesses.fillna(0,inplace=True)\n",
    "# Convert records with no identified complainants as \"unknown\" - could be officers,\n",
    "# could be bad record-keeping\n",
    "comp1_out_wit.officer_filed[comp1_out_wit['officer_or_non'].isna()]='Unknown'\n",
    "comp1_out_wit.to_pickle('comp1_partmerge')"
   ]
  },
  {
   "cell_type": "code",
   "execution_count": null,
   "metadata": {
    "hidden": true
   },
   "outputs": [],
   "source": [
    "# Isolate the category of complaint type (indicated by number)\n",
    "comp1_out_wit['number_complaint_code']=comp1_out_wit['complaint_code'].str.extract(\"([0-9]+)\")"
   ]
  },
  {
   "cell_type": "code",
   "execution_count": null,
   "metadata": {
    "hidden": true
   },
   "outputs": [],
   "source": [
    "# Join the df with complainant, outcome, and #witnesses with details about time of complaint\n",
    "comp1_fulldet = compdet_cv1.join(comp1_out_wit.set_index('cr_id'),on='cr_id',how='left')\n",
    "comp1_fulldet.dropna(inplace=True)\n",
    "\n",
    "# Change 'officer-filed' status to 'unknown' if no complainant data was provided\n",
    "comp1_fulldet['officer_filed'][comp1_fulldet['officer_or_non']=='Unknown']='Unknown'"
   ]
  },
  {
   "cell_type": "markdown",
   "metadata": {
    "heading_collapsed": true
   },
   "source": [
    "## Getting information about officers"
   ]
  },
  {
   "cell_type": "code",
   "execution_count": null,
   "metadata": {
    "hidden": true
   },
   "outputs": [],
   "source": [
    "# Drop unnecessary personal information about officers\n",
    "officers_an = officers.drop(['uid','first_name','last_name','middle_initial','middle_initial2','suffix_name','current_rank','profile_count','current_star'],axis=1)\n",
    "\n",
    "# Convert date fields to datetime fields\n",
    "officers_an['birth_year']=pd.to_datetime(officers_an['birth_year'],format='%Y')\n",
    "officers_an['appointed_date']=pd.to_datetime(officers_an['appointed_date'])\n",
    "officers_an['resignation_date']=pd.to_datetime(officers_an['resignation_date'])\n",
    "officers_an['start_date']=pd.to_datetime(officers_an['start_date'])\n",
    "officers_an['org_hire_date']=pd.to_datetime(officers_an['org_hire_date'])"
   ]
  },
  {
   "cell_type": "markdown",
   "metadata": {
    "hidden": true
   },
   "source": [
    "### Counting awards received by officers and adding those to officer roster"
   ]
  },
  {
   "cell_type": "code",
   "execution_count": null,
   "metadata": {
    "hidden": true
   },
   "outputs": [],
   "source": [
    "# Slim down awards information to the basics\n",
    "awards_id = awards[['award_type','award_request_date','link_uid']]\n",
    "\n",
    "# Make a dataframe that has the # of awards won by each officer (IDd by link_uid)\n",
    "officer_id = pd.DataFrame(awards_id.link_uid.value_counts()).rename(columns={'link_uid': 'num_awards'})\n",
    "officer_id.index.rename('link_uid',inplace=True)\n",
    "\n",
    "\n",
    "# Join the officers df with the awardsinfo, and fill in zero awards if none were listed\n",
    "off_full = officer_id.join(officers_an.set_index('link_uid'),on='link_uid',how='right')\n",
    "off_full.num_awards.fillna(0,inplace=True)\n",
    "\n",
    "# Give columns unique names to avoid conflict with complainant headers \n",
    "off_full.rename(columns={\"birth_year\":'officer_birthyr','race':'officer_race','gender':'officer_gender'},inplace=True)\n",
    "off_full.to_pickle('officers_awards')"
   ]
  },
  {
   "cell_type": "markdown",
   "metadata": {
    "hidden": true
   },
   "source": [
    "### Counting total complaints received by officers"
   ]
  },
  {
   "cell_type": "code",
   "execution_count": null,
   "metadata": {
    "hidden": true
   },
   "outputs": [],
   "source": [
    "# Create a dataframe that totals the complaints for each officer\n",
    "num_complaints = pd.DataFrame(outcomes.link_uid.value_counts())\n",
    "num_complaints.rename(columns={'link_uid':'num_complaints'},inplace=True)\n",
    "num_complaints.index.rename('link_uid',inplace=True)"
   ]
  },
  {
   "cell_type": "markdown",
   "metadata": {
    "heading_collapsed": true,
    "hidden": true
   },
   "source": [
    "### Subgrouping complaints into types and counting how many received by each officers (note - some types of complaints were not described by CPD in FOIA, so not all complaints will be captured by this subgrouping)"
   ]
  },
  {
   "cell_type": "code",
   "execution_count": null,
   "metadata": {
    "hidden": true
   },
   "outputs": [],
   "source": [
    "# Isolate the complaint code number (reveals broad category)\n",
    "outcomes['number_complaint_code']=outcomes['complaint_code'].str.extract(\"([0-9]+)\")\n",
    "\n",
    "# Create masks for each of the categories of complaints, sorted into broader categories\n",
    "mask_operations = (outcomes['number_complaint_code']=='17') | (outcomes['number_complaint_code']=='12') | (outcomes['number_complaint_code']=='10')|(outcomes['number_complaint_code']=='07')\n",
    "mask_substance = (outcomes['number_complaint_code']=='02')| (outcomes['number_complaint_code']=='15')\n",
    "mask_civil = ((outcomes['number_complaint_code']=='03')|(outcomes['number_complaint_code']=='04')|(outcomes['number_complaint_code']=='16'))\n",
    "mask_abuse= (outcomes['number_complaint_code']=='05')|(outcomes['number_complaint_code']=='18')|(outcomes['number_complaint_code']=='19')|(outcomes['number_complaint_code']=='01')\n",
    "mask_corrupt = (outcomes['number_complaint_code']=='20')|(outcomes['number_complaint_code']=='21')|(outcomes['number_complaint_code']=='06')|(outcomes['number_complaint_code']=='08')|(outcomes['number_complaint_code']=='09')\n",
    "\n",
    "# Count the number of each type of complaint associated with each unique police officer, and rename the columns and indices\n",
    "oper_num = pd.DataFrame(outcomes[mask_operations].link_uid.value_counts())\n",
    "oper_num.rename(columns={'link_uid':'operations_ct'},inplace=True)\n",
    "oper_num.index.rename('link_uid',inplace=True)\n",
    "\n",
    "subs_num = pd.DataFrame(outcomes[mask_substance].link_uid.value_counts())\n",
    "subs_num.rename(columns={'link_uid':'substance_ct'},inplace=True)\n",
    "subs_num.index.rename('link_uid',inplace=True)\n",
    "\n",
    "civil_num = pd.DataFrame(outcomes[mask_civil].link_uid.value_counts())\n",
    "civil_num.rename(columns={'link_uid':'civil_ct'},inplace=True)\n",
    "civil_num.index.rename('link_uid',inplace=True)\n",
    "\n",
    "abuse_num = pd.DataFrame(outcomes[mask_abuse].link_uid.value_counts())\n",
    "abuse_num.rename(columns={'link_uid':'abuse_ct'},inplace=True)\n",
    "abuse_num.index.rename('link_uid',inplace=True)\n",
    "\n",
    "corrupt_num = pd.DataFrame(outcomes[mask_corrupt].link_uid.value_counts())\n",
    "corrupt_num.rename(columns={'link_uid':'corrupt_ct'},inplace=True)\n",
    "corrupt_num.index.rename('link_uid',inplace=True)\n",
    "\n",
    "# Create a big dataframe with the total complaints, as well as counts for each subtype\n",
    "comp_list = [oper_num,subs_num,civil_num,abuse_num,corrupt_num]\n",
    "comp_type = pd.concat(comp_list,axis=1)\n",
    "# Fill NAs with zeros since they mean no recorded complaints of that type\n",
    "comp_type = comp_type.fillna(0)\n",
    "comp_type.index.rename('link_uid',inplace=True)\n",
    "\n",
    "comp_total = pd.concat([num_complaints,comp_type],axis=1)\n",
    "comp_total.index.rename('link_uid',inplace=True)\n",
    "\n"
   ]
  },
  {
   "cell_type": "markdown",
   "metadata": {
    "hidden": true
   },
   "source": [
    "### Make a new roster of officers that includes all counts of complaints and subtypes"
   ]
  },
  {
   "cell_type": "code",
   "execution_count": null,
   "metadata": {
    "hidden": true
   },
   "outputs": [],
   "source": [
    "# Join the officers df with the awardsinfo\n",
    "off_full2 = off_full.join(comp_total,on='link_uid',how='left')\n",
    "off_full2.set_index('link_uid',inplace=True)\n",
    "\n",
    "# Drop unnecessary columns and pickle it\n",
    "off_full2.drop(['start_date','org_hire_date','resignation_date','current_status'],axis=1,inplace=True)\n",
    "off_full2.to_pickle('officers_aw_comp')"
   ]
  },
  {
   "cell_type": "code",
   "execution_count": null,
   "metadata": {
    "hidden": true
   },
   "outputs": [],
   "source": [
    "# Join the complaints df with the officers information\n",
    "comp_officers = off_full.join(comp1_fulldet.set_index('link_uid'),on='link_uid',how='outer')\n",
    "\n",
    "# Get rid of officers who don't have complaints (will not have a CV value because they will \n",
    "# not have records in the 'outcome' database\n",
    "comp_officers= comp_officers[pd.notnull(comp_officers['cv'])]\n"
   ]
  },
  {
   "cell_type": "code",
   "execution_count": null,
   "metadata": {
    "hidden": true
   },
   "outputs": [],
   "source": [
    "# Engineer relevant features about age/duty time when complaint occurred, and drop features with high NA\n",
    "comp_officers['age_off_comp']=(comp_officers['incident_dt']-comp_officers['officer_birthyr'])\n",
    "comp_officers['time_on_force']=(comp_officers['incident_dt']-comp_officers['appointed_date'])\n",
    "comp_officers['incident_month']= comp_officers['incident_dt'].dt.month\n",
    "comp_officers.drop(['resignation_date','current_status'],axis=1,inplace=True)\n",
    "\n",
    "comp_officers.to_pickle('complaints_officers_final')"
   ]
  },
  {
   "cell_type": "code",
   "execution_count": null,
   "metadata": {
    "hidden": true
   },
   "outputs": [],
   "source": [
    "# Join the complaints df with the subtypes of complaints each officer earned\n",
    "comp_officers_full = comp_officers_upd.join(comp_type,on='link_uid',how='lef`t')"
   ]
  },
  {
   "cell_type": "code",
   "execution_count": null,
   "metadata": {
    "hidden": true
   },
   "outputs": [],
   "source": [
    "# Count the number of co-indicated officers for each complaint and make a dataframe\n",
    "numdef_cv1=pd.DataFrame(comp_officers_full.cr_id.value_counts())\n",
    "numdef_cv1.columns=['num_coindicated']\n",
    "numdef_cv1.index.name='cr_id'\n",
    "\n",
    "comp1_officers = comp_officers_full.join(numdef_cv1,on='cr_id',how='left')"
   ]
  },
  {
   "cell_type": "code",
   "execution_count": 10,
   "metadata": {
    "hidden": true
   },
   "outputs": [
    {
     "data": {
      "text/html": [
       "<div>\n",
       "<style scoped>\n",
       "    .dataframe tbody tr th:only-of-type {\n",
       "        vertical-align: middle;\n",
       "    }\n",
       "\n",
       "    .dataframe tbody tr th {\n",
       "        vertical-align: top;\n",
       "    }\n",
       "\n",
       "    .dataframe thead th {\n",
       "        text-align: right;\n",
       "    }\n",
       "</style>\n",
       "<table border=\"1\" class=\"dataframe\">\n",
       "  <thead>\n",
       "    <tr style=\"text-align: right;\">\n",
       "      <th></th>\n",
       "      <th>num_awards</th>\n",
       "      <th>officer_birthyr</th>\n",
       "      <th>officer_race</th>\n",
       "      <th>officer_gender</th>\n",
       "      <th>appointed_date</th>\n",
       "      <th>current_unit</th>\n",
       "      <th>cleaned_rannk</th>\n",
       "      <th>num_complaints</th>\n",
       "      <th>operations_ct</th>\n",
       "      <th>substance_ct</th>\n",
       "      <th>civil_ct</th>\n",
       "      <th>abuse_ct</th>\n",
       "      <th>corrupt_ct</th>\n",
       "    </tr>\n",
       "    <tr>\n",
       "      <th>link_uid</th>\n",
       "      <th></th>\n",
       "      <th></th>\n",
       "      <th></th>\n",
       "      <th></th>\n",
       "      <th></th>\n",
       "      <th></th>\n",
       "      <th></th>\n",
       "      <th></th>\n",
       "      <th></th>\n",
       "      <th></th>\n",
       "      <th></th>\n",
       "      <th></th>\n",
       "      <th></th>\n",
       "    </tr>\n",
       "  </thead>\n",
       "  <tbody>\n",
       "    <tr>\n",
       "      <td>11117.0</td>\n",
       "      <td>387.0</td>\n",
       "      <td>1975-01-01</td>\n",
       "      <td>WHITE</td>\n",
       "      <td>MALE</td>\n",
       "      <td>2004-11-29</td>\n",
       "      <td>8.0</td>\n",
       "      <td>POLICE OFFICER</td>\n",
       "      <td>32.0</td>\n",
       "      <td>5.0</td>\n",
       "      <td>0.0</td>\n",
       "      <td>17.0</td>\n",
       "      <td>10.0</td>\n",
       "      <td>0.0</td>\n",
       "    </tr>\n",
       "    <tr>\n",
       "      <td>3549.0</td>\n",
       "      <td>360.0</td>\n",
       "      <td>1982-01-01</td>\n",
       "      <td>WHITE</td>\n",
       "      <td>MALE</td>\n",
       "      <td>2007-08-27</td>\n",
       "      <td>5.0</td>\n",
       "      <td>POLICE OFFICER</td>\n",
       "      <td>23.0</td>\n",
       "      <td>6.0</td>\n",
       "      <td>0.0</td>\n",
       "      <td>14.0</td>\n",
       "      <td>3.0</td>\n",
       "      <td>0.0</td>\n",
       "    </tr>\n",
       "    <tr>\n",
       "      <td>6765.0</td>\n",
       "      <td>323.0</td>\n",
       "      <td>1979-01-01</td>\n",
       "      <td>WHITE</td>\n",
       "      <td>MALE</td>\n",
       "      <td>2002-03-25</td>\n",
       "      <td>4.0</td>\n",
       "      <td>SERGEANT</td>\n",
       "      <td>25.0</td>\n",
       "      <td>5.0</td>\n",
       "      <td>0.0</td>\n",
       "      <td>13.0</td>\n",
       "      <td>7.0</td>\n",
       "      <td>0.0</td>\n",
       "    </tr>\n",
       "    <tr>\n",
       "      <td>22701.0</td>\n",
       "      <td>322.0</td>\n",
       "      <td>1975-01-01</td>\n",
       "      <td>WHITE</td>\n",
       "      <td>MALE</td>\n",
       "      <td>1999-09-13</td>\n",
       "      <td>4.0</td>\n",
       "      <td>POLICE OFFICER</td>\n",
       "      <td>35.0</td>\n",
       "      <td>7.0</td>\n",
       "      <td>0.0</td>\n",
       "      <td>18.0</td>\n",
       "      <td>8.0</td>\n",
       "      <td>1.0</td>\n",
       "    </tr>\n",
       "    <tr>\n",
       "      <td>21124.0</td>\n",
       "      <td>319.0</td>\n",
       "      <td>1978-01-01</td>\n",
       "      <td>WHITE</td>\n",
       "      <td>MALE</td>\n",
       "      <td>2002-04-29</td>\n",
       "      <td>4.0</td>\n",
       "      <td>SERGEANT</td>\n",
       "      <td>56.0</td>\n",
       "      <td>11.0</td>\n",
       "      <td>0.0</td>\n",
       "      <td>31.0</td>\n",
       "      <td>12.0</td>\n",
       "      <td>1.0</td>\n",
       "    </tr>\n",
       "  </tbody>\n",
       "</table>\n",
       "</div>"
      ],
      "text/plain": [
       "          num_awards officer_birthyr officer_race officer_gender  \\\n",
       "link_uid                                                           \n",
       "11117.0        387.0      1975-01-01        WHITE           MALE   \n",
       "3549.0         360.0      1982-01-01        WHITE           MALE   \n",
       "6765.0         323.0      1979-01-01        WHITE           MALE   \n",
       "22701.0        322.0      1975-01-01        WHITE           MALE   \n",
       "21124.0        319.0      1978-01-01        WHITE           MALE   \n",
       "\n",
       "         appointed_date current_unit   cleaned_rannk  num_complaints  \\\n",
       "link_uid                                                               \n",
       "11117.0      2004-11-29          8.0  POLICE OFFICER            32.0   \n",
       "3549.0       2007-08-27          5.0  POLICE OFFICER            23.0   \n",
       "6765.0       2002-03-25          4.0        SERGEANT            25.0   \n",
       "22701.0      1999-09-13          4.0  POLICE OFFICER            35.0   \n",
       "21124.0      2002-04-29          4.0        SERGEANT            56.0   \n",
       "\n",
       "          operations_ct  substance_ct  civil_ct  abuse_ct  corrupt_ct  \n",
       "link_uid                                                               \n",
       "11117.0             5.0           0.0      17.0      10.0         0.0  \n",
       "3549.0              6.0           0.0      14.0       3.0         0.0  \n",
       "6765.0              5.0           0.0      13.0       7.0         0.0  \n",
       "22701.0             7.0           0.0      18.0       8.0         1.0  \n",
       "21124.0            11.0           0.0      31.0      12.0         1.0  "
      ]
     },
     "execution_count": 10,
     "metadata": {},
     "output_type": "execute_result"
    }
   ],
   "source": []
  },
  {
   "cell_type": "markdown",
   "metadata": {
    "heading_collapsed": true
   },
   "source": [
    "## Getting complaint details for 2000-2018 (CV2 and CV3)"
   ]
  },
  {
   "cell_type": "code",
   "execution_count": null,
   "metadata": {
    "hidden": true
   },
   "outputs": [],
   "source": [
    "# Convert date details about complaints into datetime features\n",
    "compdet_cv2['incident_date']=pd.to_datetime(compdet_cv2['incident_date'])\n",
    "compdet_cv2['complaint_date']=pd.to_datetime(compdet_cv2['complaint_date'])\n",
    "compdet_cv2['closed_date']=pd.to_datetime(compdet_cv2['closed_date'])"
   ]
  },
  {
   "cell_type": "code",
   "execution_count": null,
   "metadata": {
    "hidden": true
   },
   "outputs": [],
   "source": [
    "# Engineer features that indicate time between complaint and incident, and duration of investigation\n",
    "compdet_cv2['time2complain']=(compdet_cv2.complaint_date-compdet_cv2.incident_date)\n",
    "compdet_cv2['time2close']=(compdet_cv2.closed_date-compdet_cv2.complaint_date)\n"
   ]
  },
  {
   "cell_type": "code",
   "execution_count": 24,
   "metadata": {
    "hidden": true
   },
   "outputs": [],
   "source": [
    "# Count the number of complainants for each complaint, and join \n",
    "# it with the total dataframe for CV23\n",
    "numciv_comp23 = pd.DataFrame(comp23_civ.cr_id.value_counts())\n",
    "numciv_comp23.columns=['numcomplainants']\n",
    "numciv_comp23.index.name='cr_id'\n"
   ]
  },
  {
   "cell_type": "code",
   "execution_count": 25,
   "metadata": {
    "hidden": true
   },
   "outputs": [],
   "source": [
    "# Get mode of race, gender and birthday for complaints where there were multiple complainants\n",
    "comp23_civ.dropna(inplace=True)\n",
    "comp23_modes = comp23_civ.groupby('cr_id').agg(lambda x:x.value_counts().index[0] )\n",
    "comp23_modes.drop('cv',axis=1,inplace=True)"
   ]
  },
  {
   "cell_type": "code",
   "execution_count": 26,
   "metadata": {
    "hidden": true
   },
   "outputs": [],
   "source": [
    "# Drop unnecessary columns from the witness dataframe\n",
    "wit_cv23_trim = wit_cv23.drop(['row_id','complaints_witnesses_2000_2016_2016_11_id','uid','row_id', 'complaint_date','race','gender','birth_year','complainant_subtype'],axis=1)\n",
    "\n",
    "# Count the number of civilian witness for each complaint and make a dataframe\n",
    "numwit_cv23=pd.DataFrame(wit_cv23_trim.cr_id.value_counts())\n",
    "numwit_cv23.columns=['numwitnesses']\n",
    "numwit_cv23.index.name='cr_id'"
   ]
  },
  {
   "cell_type": "code",
   "execution_count": 27,
   "metadata": {
    "hidden": true
   },
   "outputs": [],
   "source": [
    "# Join demographic complainant data from CV2and3 with the outcomes df, and the number of witnesses associated\n",
    "comp23_out = comp23_modes.join(outcomes_cv23.set_index('cr_id'),on='cr_id',how='right')\n",
    "comp23_out = comp23_out.join(numciv_comp23,on='cr_id',how='left')\n",
    "comp23_out = comp23_out.join(numwit_cv23,on='cr_id',how='left')\n",
    "comp23_out.numwitnesses.fillna(0,inplace=True)\n",
    "\n"
   ]
  },
  {
   "cell_type": "code",
   "execution_count": null,
   "metadata": {
    "hidden": true
   },
   "outputs": [],
   "source": [
    "# Convert date details about complaints into datetime features\n",
    "compdet_cv23['incident_date']=pd.to_datetime(compdet_cv23['incident_date'])\n",
    "compdet_cv23['complaint_date']=pd.to_datetime(compdet_cv23['complaint_date'])\n",
    "compdet_cv23['closed_date']=pd.to_datetime(compdet_cv23['closed_date'])\n",
    "\n",
    "# Engineer features that indicate time between complaint and incident, and duration of investigation\n",
    "compdet_cv23['time2complain']=(compdet_cv23.complaint_date-compdet_cv23.incident_date)\n",
    "compdet_cv23['time2close']=(compdet_cv23.closed_date-compdet_cv23.complaint_date)\n",
    "compdet_cv23['incident_month']= compdet_cv23['incident_date'].dt.month\n"
   ]
  },
  {
   "cell_type": "code",
   "execution_count": null,
   "metadata": {
    "hidden": true
   },
   "outputs": [],
   "source": [
    "# Drop the beat - although this is likely relevant, we don't have data before 2000; drop CV to avoid merge conflict\n",
    "compdet_cv23.drop('beat',axis=1,inplace=True)\n",
    "compdet_cv23.drop('cv',axis=1,inplace=True)"
   ]
  },
  {
   "cell_type": "code",
   "execution_count": 39,
   "metadata": {
    "hidden": true
   },
   "outputs": [],
   "source": [
    "# Join the df with complainant, outcome, and #witnesses with details about time of complaint\n",
    "comp23_fulldet = compdet_cv23.join(comp23_out,on='cr_id',how='left')"
   ]
  },
  {
   "cell_type": "code",
   "execution_count": null,
   "metadata": {
    "hidden": true
   },
   "outputs": [],
   "source": [
    "# Drop complaints with no record of the category or outcome of complaint (this loses 40k complaints)\n",
    "comp23_fulldet.dropna(inplace=True,subset=['final_finding'])"
   ]
  },
  {
   "cell_type": "code",
   "execution_count": null,
   "metadata": {
    "hidden": true
   },
   "outputs": [],
   "source": [
    "# Set the value for 'officer-filed' to equal true if the complaint ID is present in the list\n",
    "# of complaints filed/corroborated by officers\n",
    "comp23_fulldet['officer_filed'][comp23_fulldet['cr_id'].isin(comp23_off)]=True"
   ]
  },
  {
   "cell_type": "code",
   "execution_count": 41,
   "metadata": {
    "hidden": true
   },
   "outputs": [],
   "source": [
    "# Join the complaints df for CV23 with the officers information\n",
    "comp23_officers = comp23_fulldet.join(officers_df,on='link_uid',how='left')\n"
   ]
  },
  {
   "cell_type": "code",
   "execution_count": 42,
   "metadata": {
    "hidden": true
   },
   "outputs": [],
   "source": [
    "# Engineer relevant features about age/duty time when complaint occurred, and drop features with high NA\n",
    "comp23_officers['age_off_comp']=(comp23_officers['incident_date']-comp23_officers['officer_birthyr'])\n",
    "comp23_officers['time_on_force']=(comp23_officers['incident_date']-comp23_officers['appointed_date'])\n",
    "\n",
    "# Sum complainants with witnesses, since pre-2000 data lumped them together\n",
    "comp23_officers['numwitnesses']=comp23_officers['numwitnesses']+comp23_officers['numcomplainants']"
   ]
  },
  {
   "cell_type": "code",
   "execution_count": 43,
   "metadata": {
    "hidden": true
   },
   "outputs": [],
   "source": [
    "# Count the number of co-indicated officers for each complaint and make a dataframe\n",
    "numdef_cv23=pd.DataFrame(comp23_officers.cr_id.value_counts())\n",
    "numdef_cv23.columns=['num_coindicated']\n",
    "numdef_cv23.index.name='cr_id'\n",
    "\n",
    "comp23_officers = comp23_officers.join(numdef_cv23,on='cr_id',how='left')\n"
   ]
  },
  {
   "cell_type": "markdown",
   "metadata": {},
   "source": [
    "## Joining and cleaning full dataset"
   ]
  },
  {
   "cell_type": "code",
   "execution_count": null,
   "metadata": {},
   "outputs": [],
   "source": [
    "# Rename columns to match in both dfs\n",
    "comp1_officers.rename(columns={'closed_dt': 'closed_date','complaint_dt': 'complaint_date','incident_dt': 'incident_date'},inplace=True)\n",
    "comp1_officers.drop('officer_or_non',axis=1,inplace=True)\n",
    "comp1_officers.to_pickle('comp1_ready2model')\n",
    "comp23_officers.to_pickle('comp23_ready2model')"
   ]
  },
  {
   "cell_type": "code",
   "execution_count": null,
   "metadata": {},
   "outputs": [],
   "source": [
    "comp1_officers = pd.read_pickle('comp1_ready2model')\n",
    "comp23_officers = pd.read_pickle('comp23_ready2model')"
   ]
  },
  {
   "cell_type": "code",
   "execution_count": null,
   "metadata": {},
   "outputs": [],
   "source": [
    "# Join dfs from C1 and CV23\n",
    "all_complaints = pd.concat([comp1_officers,comp23_officers])"
   ]
  },
  {
   "cell_type": "code",
   "execution_count": null,
   "metadata": {},
   "outputs": [],
   "source": [
    "# Convert timedeltas to integers to prepare for EDA and modeling\n",
    "all_complaints['age_off_comp']=all_complaints['age_off_comp'].dt.days\n",
    "all_complaints['time2close']=all_complaints['time2close'].dt.days\n",
    "all_complaints['time2complain']=all_complaints['time2complain'].dt.days\n",
    "all_complaints['time_on_force']=all_complaints['time_on_force'].dt.days"
   ]
  },
  {
   "cell_type": "code",
   "execution_count": null,
   "metadata": {},
   "outputs": [],
   "source": [
    "# Convert final outcome to all lower case to make combining outcomes easier\n",
    "all_complaints['final_outcome']= all_complaints['final_outcome'].str.lower()"
   ]
  },
  {
   "cell_type": "markdown",
   "metadata": {
    "heading_collapsed": true
   },
   "source": [
    "### Recode discipline to be binary"
   ]
  },
  {
   "cell_type": "code",
   "execution_count": null,
   "metadata": {
    "hidden": true
   },
   "outputs": [],
   "source": [
    "# Simplify outcomes by binning\n",
    "\n",
    "# Short suspension - 1 to 7 days\n",
    "all_complaints.final_outcome.replace({'1 day suspension': 'short suspension',\n",
    "                                      '2 day suspension': 'short suspension',\n",
    "                                      '3 day suspension': 'short suspension',\n",
    "                                      '4 day suspension': 'short suspension',\n",
    "                                      '5 day suspension': 'short suspension',\n",
    "                                      '6 day suspension': 'short suspension',\n",
    "                                      '7 day suspension': 'short suspension'},inplace=True)\n",
    "\n",
    "# Medium suspension - 8 to 29 days\n",
    "all_complaints.final_outcome.replace({'8 day suspension': 'medium suspension',\n",
    "                                      '9 day suspension': 'medium suspension',\n",
    "                                      '10 day suspension': 'medium suspension',\n",
    "                                      '11 day suspension': 'medium suspension',\n",
    "                                      '12 day suspension': 'medium suspension',\n",
    "                                      '13 day suspension': 'medium suspension',\n",
    "                                      '14 day suspension': 'medium suspension',\n",
    "                                      '15 day suspension': 'medium suspension',\n",
    "                                      '16 day suspension': 'medium suspension',\n",
    "                                      '17 day suspension': 'medium suspension',\n",
    "                                      '18 day suspension': 'medium suspension',\n",
    "                                      '20 day suspension': 'medium suspension',\n",
    "                                      '21 day suspension': 'medium suspension',\n",
    "                                      '22 day suspension': 'medium suspension',\n",
    "                                      '23 day suspension': 'medium suspension',\n",
    "                                      '24 day suspension': 'medium suspension',\n",
    "                                      '25 day suspension': 'medium suspension',\n",
    "                                      '27 day suspension': 'medium suspension',\n",
    "                                     '28 day suspension': 'medium suspension',\n",
    "                                     '29 day suspension': 'medium suspension'},inplace=True)\n",
    "\n",
    "\n",
    "# Long suspension - 30 or more days (some suspensions are very long - possibly some kind of retirement gift)\n",
    "all_complaints.final_outcome.replace({'suspen\\'d indefinit\\'y': 'long suspension',\n",
    "                                      'suspended for 180 days': 'long suspension',\n",
    "                                      '540': 'long suspension',\n",
    "                                      '900 day suspension': 'long suspension',\n",
    "                                      '365': 'long suspension',\n",
    "                                      '326': 'long suspension',\n",
    "                                      '40': 'long suspension',\n",
    "                                      '35': 'long suspension',\n",
    "                                      '365 day suspension': 'long suspension',\n",
    "                                      '270 day suspension': 'long suspension',\n",
    "                                      '180 day suspension': 'long suspension',\n",
    "                                      '150 day suspension': 'long suspension',\n",
    "                                      '120 day suspension': 'long suspension',\n",
    "                                      '90 day suspension': 'long suspension',\n",
    "                                      '75 day suspension': 'long suspension',\n",
    "                                      '60 day suspension': 'long suspension',\n",
    "                                      '45 day suspension': 'long suspension',\n",
    "                                      '40 day suspension': 'long suspension',\n",
    "                                      '35 day suspension': 'long suspension',\n",
    "                                      '31 day suspension': 'long suspension',\n",
    "                                      '30 day suspension': 'long suspension',\n",
    "                                      'suspended ovr 30 day': 'long suspension',\n",
    "                                      'suspended over 30 days': 'long suspension'},inplace=True)\n",
    "\n",
    "# Combine different encodings -  in case of numeric encodings this required investigated the actual \n",
    "# records to find out the penalty\n",
    "all_complaints.final_outcome.replace({'**penalty not served': 'penalty not served'},inplace=True)\n",
    "all_complaints.final_outcome.replace({'resigned -not served': 'resigned',\n",
    "                                      '99': 'resigned'\n",
    "                                     },inplace=True)\n",
    "all_complaints.final_outcome.replace({'reinstated by police board': 'reinstated',\n",
    "                                      'reinstated by court action': 'reinstated',\n",
    "                                      'reinstated police bd': 'reinstated',\n",
    "                                      'reinstated court act': 'reinstated',\n",
    "                                     },inplace=True)\n",
    "all_complaints.final_outcome.replace({'999': 'unknown'},inplace=True)\n",
    "\n",
    "# Lump any case where officer was fired together\n",
    "all_complaints.final_outcome.replace({'admin. termination': 'termination',\n",
    "                                      'administrative termination': 'termination',\n",
    "                                      'separation': 'termination',\n",
    "                                      'separated other case': 'termination'\n",
    "                                     },inplace=True)\n"
   ]
  },
  {
   "cell_type": "code",
   "execution_count": null,
   "metadata": {
    "hidden": true
   },
   "outputs": [],
   "source": [
    "# Create a binary column - disciplined or not. Set it to not\n",
    "all_complaints['discipline']=0\n",
    "\n",
    "# Set discipline column to 1 any case where discipline occurred\n",
    "all_complaints.discipline.where((all_complaints['final_outcome']=='resigned')|\n",
    "                                (all_complaints['final_outcome']=='no action taken')|\n",
    "                                (all_complaints['final_outcome']=='sustained-no penalty')|\n",
    "                                (all_complaints['final_outcome']=='reinstated')|\n",
    "                                (all_complaints['final_outcome']=='unknown')|\n",
    "                                (all_complaints['final_outcome']=='penalty not served')|\n",
    "                                (all_complaints['final_outcome']=='violation noted')\n",
    "                                ,1,inplace=True)\n",
    "\n",
    "# Numbers approximately matched those on CPDP database (247150 complaints, 7% disciplined)\n",
    "all_complaints.discipline.value_counts()"
   ]
  },
  {
   "cell_type": "code",
   "execution_count": 3,
   "metadata": {
    "hidden": true
   },
   "outputs": [],
   "source": [
    "all_complaints=pd.read_pickle('fulldata_model')"
   ]
  },
  {
   "cell_type": "code",
   "execution_count": 10,
   "metadata": {
    "hidden": true
   },
   "outputs": [],
   "source": [
    "all_complaints.to_pickle('fulldata_model')"
   ]
  },
  {
   "cell_type": "code",
   "execution_count": 9,
   "metadata": {
    "hidden": true
   },
   "outputs": [
    {
     "data": {
      "text/html": [
       "<div>\n",
       "<style scoped>\n",
       "    .dataframe tbody tr th:only-of-type {\n",
       "        vertical-align: middle;\n",
       "    }\n",
       "\n",
       "    .dataframe tbody tr th {\n",
       "        vertical-align: top;\n",
       "    }\n",
       "\n",
       "    .dataframe thead th {\n",
       "        text-align: right;\n",
       "    }\n",
       "</style>\n",
       "<table border=\"1\" class=\"dataframe\">\n",
       "  <thead>\n",
       "    <tr style=\"text-align: right;\">\n",
       "      <th></th>\n",
       "      <th>abuse_ct</th>\n",
       "      <th>age_off_comp</th>\n",
       "      <th>civil_ct</th>\n",
       "      <th>corrupt_ct</th>\n",
       "      <th>cv</th>\n",
       "      <th>incident_month</th>\n",
       "      <th>num_awards</th>\n",
       "      <th>num_coindicated</th>\n",
       "      <th>num_complaints</th>\n",
       "      <th>numwitnesses</th>\n",
       "      <th>...</th>\n",
       "      <th>substance_ct</th>\n",
       "      <th>time2close</th>\n",
       "      <th>time2complain</th>\n",
       "      <th>time_on_force</th>\n",
       "      <th>not_operations</th>\n",
       "      <th>injury</th>\n",
       "      <th>administrator</th>\n",
       "      <th>copa_style</th>\n",
       "      <th>search</th>\n",
       "      <th>reform</th>\n",
       "    </tr>\n",
       "    <tr>\n",
       "      <th>discipline</th>\n",
       "      <th></th>\n",
       "      <th></th>\n",
       "      <th></th>\n",
       "      <th></th>\n",
       "      <th></th>\n",
       "      <th></th>\n",
       "      <th></th>\n",
       "      <th></th>\n",
       "      <th></th>\n",
       "      <th></th>\n",
       "      <th></th>\n",
       "      <th></th>\n",
       "      <th></th>\n",
       "      <th></th>\n",
       "      <th></th>\n",
       "      <th></th>\n",
       "      <th></th>\n",
       "      <th></th>\n",
       "      <th></th>\n",
       "      <th></th>\n",
       "      <th></th>\n",
       "    </tr>\n",
       "  </thead>\n",
       "  <tbody>\n",
       "    <tr>\n",
       "      <td>0</td>\n",
       "      <td>8.241770</td>\n",
       "      <td>14099.463663</td>\n",
       "      <td>6.565385</td>\n",
       "      <td>1.400223</td>\n",
       "      <td>1.511921</td>\n",
       "      <td>6.465638</td>\n",
       "      <td>39.702374</td>\n",
       "      <td>3.311141</td>\n",
       "      <td>23.842463</td>\n",
       "      <td>1.417103</td>\n",
       "      <td>...</td>\n",
       "      <td>0.069982</td>\n",
       "      <td>235.633488</td>\n",
       "      <td>28.496847</td>\n",
       "      <td>3646.593105</td>\n",
       "      <td>0.691542</td>\n",
       "      <td>0.188653</td>\n",
       "      <td>0.221564</td>\n",
       "      <td>0.546683</td>\n",
       "      <td>0.203297</td>\n",
       "      <td>0.230064</td>\n",
       "    </tr>\n",
       "    <tr>\n",
       "      <td>1</td>\n",
       "      <td>6.302192</td>\n",
       "      <td>14842.888939</td>\n",
       "      <td>3.674030</td>\n",
       "      <td>1.708881</td>\n",
       "      <td>1.494579</td>\n",
       "      <td>6.465423</td>\n",
       "      <td>23.914387</td>\n",
       "      <td>4.049829</td>\n",
       "      <td>19.908994</td>\n",
       "      <td>1.719027</td>\n",
       "      <td>...</td>\n",
       "      <td>0.120461</td>\n",
       "      <td>669.617895</td>\n",
       "      <td>30.941127</td>\n",
       "      <td>4205.246601</td>\n",
       "      <td>0.472558</td>\n",
       "      <td>0.121679</td>\n",
       "      <td>0.185383</td>\n",
       "      <td>0.207123</td>\n",
       "      <td>0.013033</td>\n",
       "      <td>0.179372</td>\n",
       "    </tr>\n",
       "  </tbody>\n",
       "</table>\n",
       "<p>2 rows × 21 columns</p>\n",
       "</div>"
      ],
      "text/plain": [
       "            abuse_ct  age_off_comp  civil_ct  corrupt_ct        cv  \\\n",
       "discipline                                                           \n",
       "0           8.241770  14099.463663  6.565385    1.400223  1.511921   \n",
       "1           6.302192  14842.888939  3.674030    1.708881  1.494579   \n",
       "\n",
       "            incident_month  num_awards  num_coindicated  num_complaints  \\\n",
       "discipline                                                                \n",
       "0                 6.465638   39.702374         3.311141       23.842463   \n",
       "1                 6.465423   23.914387         4.049829       19.908994   \n",
       "\n",
       "            numwitnesses  ...  substance_ct  time2close  time2complain  \\\n",
       "discipline                ...                                            \n",
       "0               1.417103  ...      0.069982  235.633488      28.496847   \n",
       "1               1.719027  ...      0.120461  669.617895      30.941127   \n",
       "\n",
       "            time_on_force  not_operations    injury  administrator  \\\n",
       "discipline                                                           \n",
       "0             3646.593105        0.691542  0.188653       0.221564   \n",
       "1             4205.246601        0.472558  0.121679       0.185383   \n",
       "\n",
       "            copa_style    search    reform  \n",
       "discipline                                  \n",
       "0             0.546683  0.203297  0.230064  \n",
       "1             0.207123  0.013033  0.179372  \n",
       "\n",
       "[2 rows x 21 columns]"
      ]
     },
     "execution_count": 9,
     "metadata": {},
     "output_type": "execute_result"
    }
   ],
   "source": [
    "# EDA - look at quantitative metrics and see which are very different between 1 and 0 discipline\n",
    "all_complaints.groupby('discipline').mean()"
   ]
  },
  {
   "cell_type": "markdown",
   "metadata": {
    "heading_collapsed": true
   },
   "source": [
    "### Encoding complex columns to be binary (reform) and simplifying cop jargon"
   ]
  },
  {
   "cell_type": "code",
   "execution_count": 8,
   "metadata": {
    "hidden": true
   },
   "outputs": [
    {
     "data": {
      "text/plain": [
       "0    181012\n",
       "1     52916\n",
       "Name: reform, dtype: int64"
      ]
     },
     "execution_count": 8,
     "metadata": {},
     "output_type": "execute_result"
    }
   ],
   "source": [
    "# Create a column called 'reform' to specify which era of police reform we are in\n",
    "all_complaints['reform']=0\n",
    "ipra = pd.Timestamp(2007, 7, 1)\n",
    "copa = pd.Timestamp(2017, 9, 1)\n",
    "all_complaints['reform']= all_complaints.reform.where((all_complaints['complaint_date']<=ipra),1)\n",
    "all_complaints.reform.value_counts()"
   ]
  },
  {
   "cell_type": "code",
   "execution_count": null,
   "metadata": {
    "hidden": true
   },
   "outputs": [],
   "source": [
    "# Some previous years use wonky complaint code numbering - recode these according to the normal system\n",
    "all_complaints.number_complaint_code.replace({'253': '18','251': '18','249': '18','085': '18',\n",
    "                                              '001':'05','002':'05','005':'05','006':'05','007':'05',\n",
    "                                              '008':'05','009':'05','010':'05','011':'05',\n",
    "                                              '014':'20','035':'20','093':'20','094':'20',\n",
    "                                              '022':'05','023':'05','025':'05','026':'05','028':'05','029':'05',\n",
    "                                              '030':'05','031':'05','043':'05','044':'05','051':'05','058':'05',\n",
    "                                              '065':'05','101':'05','109':'05','110':'05',\n",
    "                                              '112':'05','114':'05','117':'05','118':'05',\n",
    "                                             '113':'01'},inplace=True)"
   ]
  },
  {
   "cell_type": "code",
   "execution_count": null,
   "metadata": {
    "hidden": true
   },
   "outputs": [],
   "source": [
    "#Impute race and gender for complaints that are brought automatically by the government\n",
    "\n",
    "all_complaints.gender.where((all_complaints['complaint_category']!=\"INDEBTEDNESS TO CITY\"),'GOVT', inplace=True)\n",
    "all_complaints.race.where((all_complaints['complaint_category']!=\"INDEBTEDNESS TO CITY\"),'GOVT', inplace=True)\n",
    "\n",
    "all_complaints.gender.where((all_complaints['complaint_category']!=\"STATE CIVIL SUIT\"),'GOVT', inplace=True)\n",
    "all_complaints.race.where((all_complaints['complaint_category']!=\"STATE CIVIL SUIT\"),'GOVT', inplace=True)"
   ]
  },
  {
   "cell_type": "code",
   "execution_count": null,
   "metadata": {
    "hidden": true
   },
   "outputs": [],
   "source": [
    "# Create a column to sort complaint types by operations vs not operations\n",
    "all_complaints['not_operations']=1\n",
    "all_complaints.not_operations.where((all_complaints['number_complaint_code']!=\"10\"),0, inplace=True)\n",
    "all_complaints.not_operations.where((all_complaints['number_complaint_code']!=\"12\"),0, inplace=True)\n",
    "all_complaints.not_operations.where((all_complaints['number_complaint_code']!=\"17\"),0, inplace=True)\n",
    "all_complaints.not_operations.value_counts()"
   ]
  },
  {
   "cell_type": "code",
   "execution_count": null,
   "metadata": {
    "hidden": true
   },
   "outputs": [],
   "source": [
    "# Create a column to sort complaints that purportedly injured the victim or not\n",
    "all_complaints['injury']=0\n",
    "all_complaints.injury.where((all_complaints['number_complaint_code']!=\"18\"),1, inplace=True)\n",
    "all_complaints.injury.where((all_complaints['number_complaint_code']!=\"19\"),1, inplace=True)\n",
    "all_complaints.injury.where((all_complaints['number_complaint_code']!=\"20\"),1, inplace=True)\n",
    "all_complaints.injury.where((all_complaints['complaint_code']!=\"10W\"),1, inplace=True)\n",
    "all_complaints.injury.where((all_complaints['complaint_code']!=\"08A\"),1, inplace=True)\n",
    "all_complaints.injury.where((all_complaints['complaint_code']!=\"08B\"),1, inplace=True)\n",
    "all_complaints.injury.where((all_complaints['complaint_code']!=\"08C\"),1, inplace=True)\n",
    "all_complaints.injury.where((all_complaints['complaint_code']!=\"05K\"),1, inplace=True)\n",
    "all_complaints.injury.where((all_complaints['complaint_code']!=\"05G\"),1, inplace=True)\n",
    "all_complaints.injury.where((all_complaints['complaint_code']!=\"05E\"),1, inplace=True)\n",
    "all_complaints.injury.where((all_complaints['complaint_code']!=\"05C\"),1, inplace=True)\n",
    "all_complaints.injury.where((all_complaints['complaint_code']!=\"05A\"),1, inplace=True)\n",
    "all_complaints.injury.where((all_complaints['complaint_code']!=\"02C\"),1, inplace=True)\n",
    "all_complaints.injury.where((all_complaints['complaint_code']!=\"04H\"),1, inplace=True)\n",
    "all_complaints.injury.where((all_complaints['complaint_code']!=\"02D\"),1, inplace=True)"
   ]
  },
  {
   "cell_type": "code",
   "execution_count": 106,
   "metadata": {
    "hidden": true
   },
   "outputs": [],
   "source": [
    "# Create a column to sort rank by administrator or not\n",
    "all_complaints['administrator']=1\n",
    "all_complaints.administrator.where((all_complaints['cleaned_rannk']!=\"POLICE OFFICER\"),0, inplace=True)\n",
    "all_complaints.administrator.where((all_complaints['cleaned_rannk']!=\"DETECTIVE\"),0, inplace=True)"
   ]
  },
  {
   "cell_type": "code",
   "execution_count": 118,
   "metadata": {
    "hidden": true
   },
   "outputs": [],
   "source": [
    "# Create a column to capture COPA-relevant complaints\n",
    "all_complaints['copa_style']=0\n",
    "all_complaints.copa_style.where((all_complaints['number_complaint_code']!=\"03\"),1, inplace=True)\n",
    "all_complaints.copa_style.where((all_complaints['number_complaint_code']!=\"01\"),1, inplace=True)\n",
    "all_complaints.copa_style.where((all_complaints['number_complaint_code']!=\"05\"),1, inplace=True)\n",
    "all_complaints.copa_style.where((all_complaints['number_complaint_code']!=\"18\"),1, inplace=True)\n",
    "all_complaints.copa_style.where((all_complaints['number_complaint_code']!=\"19\"),1, inplace=True)\n",
    "all_complaints.copa_style.where((all_complaints['number_complaint_code']!=\"20\"),1, inplace=True)\n",
    "all_complaints.copa_style.where((all_complaints['number_complaint_code']!=\"21\"),1, inplace=True)\n",
    "all_complaints.copa_style.where((all_complaints['complaint_code']!=\"04C\"),1, inplace=True)\n",
    "all_complaints.copa_style.where((all_complaints['complaint_code']!=\"04G\"),1, inplace=True)\n",
    "all_complaints.copa_style.where((all_complaints['complaint_code']!=\"04H\"),1, inplace=True)\n",
    "all_complaints.copa_style.where((all_complaints['complaint_code']!=\"12F\"),1, inplace=True)"
   ]
  },
  {
   "cell_type": "code",
   "execution_count": 119,
   "metadata": {
    "hidden": true
   },
   "outputs": [],
   "source": [
    "# Create a column to capture 'search' complaints\n",
    "all_complaints['search']=0\n",
    "all_complaints.search.where((all_complaints['number_complaint_code']!=\"03\"),1, inplace=True)\n"
   ]
  },
  {
   "cell_type": "code",
   "execution_count": null,
   "metadata": {
    "hidden": true
   },
   "outputs": [],
   "source": [
    "# Filter out all unmappable complaint codes\n",
    "unk_codes = ['021','042','116','083','020','181','11','13','14']\n",
    "all_complaints = all_complaints[~all_complaints['number_complaint_code'].isin(unk_codes)]\n",
    "\n",
    "# Make sure only interpretable complaints are present\n",
    "all_complaints.number_complaint_code.value_counts()"
   ]
  },
  {
   "cell_type": "code",
   "execution_count": null,
   "metadata": {
    "hidden": true
   },
   "outputs": [],
   "source": [
    "all_complaints[['complaint_category','copa_style']].sample(20)"
   ]
  },
  {
   "cell_type": "markdown",
   "metadata": {
    "heading_collapsed": true
   },
   "source": [
    "### Restrict the timeframe to 2000 to 2015"
   ]
  },
  {
   "cell_type": "markdown",
   "metadata": {
    "hidden": true
   },
   "source": [
    "Since complaints that result in discipline frequently take longer than a year to reach a sentence, I will exclude data for complaints filed after 2015 ended. That way I will not bias my data in favor of no-discipline findings.\n",
    "\n",
    "I will also exclude data from before 2001, to make it more symmetrical around when IPRA came into effect."
   ]
  },
  {
   "cell_type": "code",
   "execution_count": 81,
   "metadata": {
    "hidden": true
   },
   "outputs": [],
   "source": [
    "y2000 = pd.Timestamp(2001, 1, 1)\n",
    "y2016 = pd.Timestamp(2016,1,1)\n",
    "complaint00to16 = all_complaints[(all_complaints['complaint_date']>y2000) & (all_complaints['complaint_date']<y2016)]"
   ]
  },
  {
   "cell_type": "code",
   "execution_count": 82,
   "metadata": {
    "hidden": true
   },
   "outputs": [],
   "source": [
    "complaint00to16.to_pickle('complaints_timerestricted')"
   ]
  },
  {
   "cell_type": "code",
   "execution_count": 78,
   "metadata": {
    "hidden": true
   },
   "outputs": [
    {
     "data": {
      "text/html": [
       "<div>\n",
       "<style scoped>\n",
       "    .dataframe tbody tr th:only-of-type {\n",
       "        vertical-align: middle;\n",
       "    }\n",
       "\n",
       "    .dataframe tbody tr th {\n",
       "        vertical-align: top;\n",
       "    }\n",
       "\n",
       "    .dataframe thead th {\n",
       "        text-align: right;\n",
       "    }\n",
       "</style>\n",
       "<table border=\"1\" class=\"dataframe\">\n",
       "  <thead>\n",
       "    <tr style=\"text-align: right;\">\n",
       "      <th></th>\n",
       "      <th>abuse_ct</th>\n",
       "      <th>age_off_comp</th>\n",
       "      <th>civil_ct</th>\n",
       "      <th>corrupt_ct</th>\n",
       "      <th>cv</th>\n",
       "      <th>incident_month</th>\n",
       "      <th>num_awards</th>\n",
       "      <th>num_coindicated</th>\n",
       "      <th>num_complaints</th>\n",
       "      <th>numwitnesses</th>\n",
       "      <th>...</th>\n",
       "      <th>substance_ct</th>\n",
       "      <th>time2close</th>\n",
       "      <th>time2complain</th>\n",
       "      <th>time_on_force</th>\n",
       "      <th>not_operations</th>\n",
       "      <th>injury</th>\n",
       "      <th>administrator</th>\n",
       "      <th>copa_style</th>\n",
       "      <th>search</th>\n",
       "      <th>reform</th>\n",
       "    </tr>\n",
       "    <tr>\n",
       "      <th>discipline</th>\n",
       "      <th></th>\n",
       "      <th></th>\n",
       "      <th></th>\n",
       "      <th></th>\n",
       "      <th></th>\n",
       "      <th></th>\n",
       "      <th></th>\n",
       "      <th></th>\n",
       "      <th></th>\n",
       "      <th></th>\n",
       "      <th></th>\n",
       "      <th></th>\n",
       "      <th></th>\n",
       "      <th></th>\n",
       "      <th></th>\n",
       "      <th></th>\n",
       "      <th></th>\n",
       "      <th></th>\n",
       "      <th></th>\n",
       "      <th></th>\n",
       "      <th></th>\n",
       "    </tr>\n",
       "  </thead>\n",
       "  <tbody>\n",
       "    <tr>\n",
       "      <td>0</td>\n",
       "      <td>8.203825</td>\n",
       "      <td>14105.677630</td>\n",
       "      <td>7.688699</td>\n",
       "      <td>1.155646</td>\n",
       "      <td>1.916308</td>\n",
       "      <td>6.291735</td>\n",
       "      <td>55.060718</td>\n",
       "      <td>3.227968</td>\n",
       "      <td>24.661949</td>\n",
       "      <td>2.201971</td>\n",
       "      <td>...</td>\n",
       "      <td>0.057101</td>\n",
       "      <td>276.607897</td>\n",
       "      <td>35.651941</td>\n",
       "      <td>3577.234593</td>\n",
       "      <td>0.682450</td>\n",
       "      <td>0.148854</td>\n",
       "      <td>0.206632</td>\n",
       "      <td>0.566679</td>\n",
       "      <td>0.261827</td>\n",
       "      <td>0.407591</td>\n",
       "    </tr>\n",
       "    <tr>\n",
       "      <td>1</td>\n",
       "      <td>6.860143</td>\n",
       "      <td>15019.772605</td>\n",
       "      <td>4.532239</td>\n",
       "      <td>1.471396</td>\n",
       "      <td>2.081136</td>\n",
       "      <td>6.344187</td>\n",
       "      <td>35.918057</td>\n",
       "      <td>2.920614</td>\n",
       "      <td>21.216362</td>\n",
       "      <td>3.367958</td>\n",
       "      <td>...</td>\n",
       "      <td>0.104590</td>\n",
       "      <td>774.579042</td>\n",
       "      <td>51.490716</td>\n",
       "      <td>4169.235429</td>\n",
       "      <td>0.488563</td>\n",
       "      <td>0.124865</td>\n",
       "      <td>0.179225</td>\n",
       "      <td>0.265339</td>\n",
       "      <td>0.011168</td>\n",
       "      <td>0.377018</td>\n",
       "    </tr>\n",
       "  </tbody>\n",
       "</table>\n",
       "<p>2 rows × 21 columns</p>\n",
       "</div>"
      ],
      "text/plain": [
       "            abuse_ct  age_off_comp  civil_ct  corrupt_ct        cv  \\\n",
       "discipline                                                           \n",
       "0           8.203825  14105.677630  7.688699    1.155646  1.916308   \n",
       "1           6.860143  15019.772605  4.532239    1.471396  2.081136   \n",
       "\n",
       "            incident_month  num_awards  num_coindicated  num_complaints  \\\n",
       "discipline                                                                \n",
       "0                 6.291735   55.060718         3.227968       24.661949   \n",
       "1                 6.344187   35.918057         2.920614       21.216362   \n",
       "\n",
       "            numwitnesses  ...  substance_ct  time2close  time2complain  \\\n",
       "discipline                ...                                            \n",
       "0               2.201971  ...      0.057101  276.607897      35.651941   \n",
       "1               3.367958  ...      0.104590  774.579042      51.490716   \n",
       "\n",
       "            time_on_force  not_operations    injury  administrator  \\\n",
       "discipline                                                           \n",
       "0             3577.234593        0.682450  0.148854       0.206632   \n",
       "1             4169.235429        0.488563  0.124865       0.179225   \n",
       "\n",
       "            copa_style    search    reform  \n",
       "discipline                                  \n",
       "0             0.566679  0.261827  0.407591  \n",
       "1             0.265339  0.011168  0.377018  \n",
       "\n",
       "[2 rows x 21 columns]"
      ]
     },
     "execution_count": 78,
     "metadata": {},
     "output_type": "execute_result"
    }
   ],
   "source": [
    "complaint00to16.groupby('discipline').mean()"
   ]
  },
  {
   "cell_type": "code",
   "execution_count": 11,
   "metadata": {
    "hidden": true
   },
   "outputs": [
    {
     "data": {
      "text/html": [
       "<div>\n",
       "<style scoped>\n",
       "    .dataframe tbody tr th:only-of-type {\n",
       "        vertical-align: middle;\n",
       "    }\n",
       "\n",
       "    .dataframe tbody tr th {\n",
       "        vertical-align: top;\n",
       "    }\n",
       "\n",
       "    .dataframe thead th {\n",
       "        text-align: right;\n",
       "    }\n",
       "</style>\n",
       "<table border=\"1\" class=\"dataframe\">\n",
       "  <thead>\n",
       "    <tr style=\"text-align: right;\">\n",
       "      <th></th>\n",
       "      <th>num_awards</th>\n",
       "      <th>officer_birthyr</th>\n",
       "      <th>officer_race</th>\n",
       "      <th>officer_gender</th>\n",
       "      <th>appointed_date</th>\n",
       "      <th>current_unit</th>\n",
       "      <th>cleaned_rannk</th>\n",
       "      <th>num_complaints</th>\n",
       "      <th>operations_ct</th>\n",
       "      <th>substance_ct</th>\n",
       "      <th>civil_ct</th>\n",
       "      <th>abuse_ct</th>\n",
       "      <th>corrupt_ct</th>\n",
       "    </tr>\n",
       "    <tr>\n",
       "      <th>link_uid</th>\n",
       "      <th></th>\n",
       "      <th></th>\n",
       "      <th></th>\n",
       "      <th></th>\n",
       "      <th></th>\n",
       "      <th></th>\n",
       "      <th></th>\n",
       "      <th></th>\n",
       "      <th></th>\n",
       "      <th></th>\n",
       "      <th></th>\n",
       "      <th></th>\n",
       "      <th></th>\n",
       "    </tr>\n",
       "  </thead>\n",
       "  <tbody>\n",
       "    <tr>\n",
       "      <td>11117.0</td>\n",
       "      <td>387.0</td>\n",
       "      <td>1975-01-01</td>\n",
       "      <td>WHITE</td>\n",
       "      <td>MALE</td>\n",
       "      <td>2004-11-29</td>\n",
       "      <td>8.0</td>\n",
       "      <td>POLICE OFFICER</td>\n",
       "      <td>32.0</td>\n",
       "      <td>5.0</td>\n",
       "      <td>0.0</td>\n",
       "      <td>17.0</td>\n",
       "      <td>10.0</td>\n",
       "      <td>0.0</td>\n",
       "    </tr>\n",
       "    <tr>\n",
       "      <td>3549.0</td>\n",
       "      <td>360.0</td>\n",
       "      <td>1982-01-01</td>\n",
       "      <td>WHITE</td>\n",
       "      <td>MALE</td>\n",
       "      <td>2007-08-27</td>\n",
       "      <td>5.0</td>\n",
       "      <td>POLICE OFFICER</td>\n",
       "      <td>23.0</td>\n",
       "      <td>6.0</td>\n",
       "      <td>0.0</td>\n",
       "      <td>14.0</td>\n",
       "      <td>3.0</td>\n",
       "      <td>0.0</td>\n",
       "    </tr>\n",
       "    <tr>\n",
       "      <td>6765.0</td>\n",
       "      <td>323.0</td>\n",
       "      <td>1979-01-01</td>\n",
       "      <td>WHITE</td>\n",
       "      <td>MALE</td>\n",
       "      <td>2002-03-25</td>\n",
       "      <td>4.0</td>\n",
       "      <td>SERGEANT</td>\n",
       "      <td>25.0</td>\n",
       "      <td>5.0</td>\n",
       "      <td>0.0</td>\n",
       "      <td>13.0</td>\n",
       "      <td>7.0</td>\n",
       "      <td>0.0</td>\n",
       "    </tr>\n",
       "    <tr>\n",
       "      <td>22701.0</td>\n",
       "      <td>322.0</td>\n",
       "      <td>1975-01-01</td>\n",
       "      <td>WHITE</td>\n",
       "      <td>MALE</td>\n",
       "      <td>1999-09-13</td>\n",
       "      <td>4.0</td>\n",
       "      <td>POLICE OFFICER</td>\n",
       "      <td>35.0</td>\n",
       "      <td>7.0</td>\n",
       "      <td>0.0</td>\n",
       "      <td>18.0</td>\n",
       "      <td>8.0</td>\n",
       "      <td>1.0</td>\n",
       "    </tr>\n",
       "    <tr>\n",
       "      <td>21124.0</td>\n",
       "      <td>319.0</td>\n",
       "      <td>1978-01-01</td>\n",
       "      <td>WHITE</td>\n",
       "      <td>MALE</td>\n",
       "      <td>2002-04-29</td>\n",
       "      <td>4.0</td>\n",
       "      <td>SERGEANT</td>\n",
       "      <td>56.0</td>\n",
       "      <td>11.0</td>\n",
       "      <td>0.0</td>\n",
       "      <td>31.0</td>\n",
       "      <td>12.0</td>\n",
       "      <td>1.0</td>\n",
       "    </tr>\n",
       "  </tbody>\n",
       "</table>\n",
       "</div>"
      ],
      "text/plain": [
       "          num_awards officer_birthyr officer_race officer_gender  \\\n",
       "link_uid                                                           \n",
       "11117.0        387.0      1975-01-01        WHITE           MALE   \n",
       "3549.0         360.0      1982-01-01        WHITE           MALE   \n",
       "6765.0         323.0      1979-01-01        WHITE           MALE   \n",
       "22701.0        322.0      1975-01-01        WHITE           MALE   \n",
       "21124.0        319.0      1978-01-01        WHITE           MALE   \n",
       "\n",
       "         appointed_date current_unit   cleaned_rannk  num_complaints  \\\n",
       "link_uid                                                               \n",
       "11117.0      2004-11-29          8.0  POLICE OFFICER            32.0   \n",
       "3549.0       2007-08-27          5.0  POLICE OFFICER            23.0   \n",
       "6765.0       2002-03-25          4.0        SERGEANT            25.0   \n",
       "22701.0      1999-09-13          4.0  POLICE OFFICER            35.0   \n",
       "21124.0      2002-04-29          4.0        SERGEANT            56.0   \n",
       "\n",
       "          operations_ct  substance_ct  civil_ct  abuse_ct  corrupt_ct  \n",
       "link_uid                                                               \n",
       "11117.0             5.0           0.0      17.0      10.0         0.0  \n",
       "3549.0              6.0           0.0      14.0       3.0         0.0  \n",
       "6765.0              5.0           0.0      13.0       7.0         0.0  \n",
       "22701.0             7.0           0.0      18.0       8.0         1.0  \n",
       "21124.0            11.0           0.0      31.0      12.0         1.0  "
      ]
     },
     "execution_count": 11,
     "metadata": {},
     "output_type": "execute_result"
    }
   ],
   "source": [
    "officers_df = pd.read_pickle('officers_aw_comp')\n",
    "officers_df.head()"
   ]
  },
  {
   "cell_type": "markdown",
   "metadata": {
    "heading_collapsed": true
   },
   "source": [
    "### Create a final dataset of complaints which have not yet received a sentence, or whose sentence was redacted in the FOIA"
   ]
  },
  {
   "cell_type": "markdown",
   "metadata": {
    "heading_collapsed": true,
    "hidden": true
   },
   "source": [
    "#### All of the following cells simply go through the entire cleaning process from start to finish, now looking at just the unknown data"
   ]
  },
  {
   "cell_type": "code",
   "execution_count": 52,
   "metadata": {
    "hidden": true
   },
   "outputs": [],
   "source": [
    "test1 = comp23_officers[comp23_officers['final_outcome']==\"Unknown\"]"
   ]
  },
  {
   "cell_type": "code",
   "execution_count": null,
   "metadata": {
    "hidden": true
   },
   "outputs": [],
   "source": [
    "# Create a column called 'reform' to specify which era of police reform we are in\n",
    "test1['reform']=0\n",
    "ipra = pd.Timestamp(2007, 7, 1)\n",
    "copa = pd.Timestamp(2017, 9, 1)\n",
    "test1['reform']= test1.reform.where((test1['complaint_date']<=ipra),1)"
   ]
  },
  {
   "cell_type": "code",
   "execution_count": null,
   "metadata": {
    "hidden": true
   },
   "outputs": [],
   "source": [
    "# Some previous years use wonky complaint code numbering - recode these according to the normal system\n",
    "test1.number_complaint_code.replace({'253': '18','251': '18','249': '18','085': '18',\n",
    "                                              '001':'05','002':'05','005':'05','006':'05','007':'05',\n",
    "                                              '008':'05','009':'05','010':'05','011':'05',\n",
    "                                              '014':'20','035':'20','093':'20','094':'20',\n",
    "                                              '022':'05','023':'05','025':'05','026':'05','028':'05','029':'05',\n",
    "                                              '030':'05','031':'05','043':'05','044':'05','051':'05','058':'05',\n",
    "                                              '065':'05','101':'05','109':'05','110':'05',\n",
    "                                              '112':'05','114':'05','117':'05','118':'05',\n",
    "                                             '113':'01'},inplace=True)"
   ]
  },
  {
   "cell_type": "code",
   "execution_count": null,
   "metadata": {
    "hidden": true
   },
   "outputs": [],
   "source": [
    "# Create a column to sort complaint types by operations vs not operations\n",
    "test1['not_operations']=1\n",
    "test1.not_operations.where((test1['number_complaint_code']!=\"10\"),0, inplace=True)\n",
    "test1.not_operations.where((test1['number_complaint_code']!=\"12\"),0, inplace=True)\n",
    "test1.not_operations.where((test1['number_complaint_code']!=\"17\"),0, inplace=True)\n",
    "test1.not_operations.value_counts()"
   ]
  },
  {
   "cell_type": "code",
   "execution_count": null,
   "metadata": {
    "hidden": true
   },
   "outputs": [],
   "source": [
    "test1['injury']=0\n",
    "test1.injury.where((test1['number_complaint_code']!=\"18\"),1, inplace=True)\n",
    "test1.injury.where((test1['number_complaint_code']!=\"19\"),1, inplace=True)\n",
    "test1.injury.where((test1['number_complaint_code']!=\"20\"),1, inplace=True)\n",
    "test1.injury.where((test1['complaint_code']!=\"10W\"),1, inplace=True)\n",
    "test1.injury.where((test1['complaint_code']!=\"08A\"),1, inplace=True)\n",
    "test1.injury.where((test1['complaint_code']!=\"08B\"),1, inplace=True)\n",
    "test1.injury.where((test1['complaint_code']!=\"08C\"),1, inplace=True)\n",
    "test1.injury.where((test1['complaint_code']!=\"05K\"),1, inplace=True)\n",
    "test1.injury.where((test1['complaint_code']!=\"05G\"),1, inplace=True)\n",
    "test1.injury.where((test1['complaint_code']!=\"05E\"),1, inplace=True)\n",
    "test1.injury.where((test1['complaint_code']!=\"05C\"),1, inplace=True)\n",
    "test1.injury.where((test1['complaint_code']!=\"05A\"),1, inplace=True)\n",
    "test1.injury.where((test1['complaint_code']!=\"02C\"),1, inplace=True)\n",
    "test1.injury.where((test1['complaint_code']!=\"04H\"),1, inplace=True)\n",
    "test1.injury.where((test1['complaint_code']!=\"02D\"),1, inplace=True)\n",
    "test1.injury.value_counts()"
   ]
  },
  {
   "cell_type": "code",
   "execution_count": null,
   "metadata": {
    "hidden": true
   },
   "outputs": [],
   "source": [
    "# Create a column to sort rank by administrator or not\n",
    "test1['administrator']=1\n",
    "test1.administrator.where((test1['cleaned_rannk']!=\"POLICE OFFICER\"),0, inplace=True)\n",
    "test1.administrator.where((test1['cleaned_rannk']!=\"DETECTIVE\"),0, inplace=True)\n",
    "test1.administrator.value_counts()"
   ]
  },
  {
   "cell_type": "code",
   "execution_count": null,
   "metadata": {
    "hidden": true
   },
   "outputs": [],
   "source": [
    "# Create a column to capture COPA-relevant complaints\n",
    "test1['copa_style']=0\n",
    "test1.copa_style.where((test1['number_complaint_code']!=\"03\"),1, inplace=True)\n",
    "test1.copa_style.where((test1['number_complaint_code']!=\"01\"),1, inplace=True)\n",
    "test1.copa_style.where((test1['number_complaint_code']!=\"05\"),1, inplace=True)\n",
    "test1.copa_style.where((test1['number_complaint_code']!=\"18\"),1, inplace=True)\n",
    "test1.copa_style.where((test1['number_complaint_code']!=\"19\"),1, inplace=True)\n",
    "test1.copa_style.where((test1['number_complaint_code']!=\"20\"),1, inplace=True)\n",
    "test1.copa_style.where((test1['number_complaint_code']!=\"21\"),1, inplace=True)\n",
    "test1.copa_style.where((test1['complaint_code']!=\"04C\"),1, inplace=True)\n",
    "test1.copa_style.where((test1['complaint_code']!=\"04G\"),1, inplace=True)\n",
    "test1.copa_style.where((test1['complaint_code']!=\"04H\"),1, inplace=True)\n",
    "test1.copa_style.where((test1['complaint_code']!=\"12F\"),1, inplace=True)"
   ]
  },
  {
   "cell_type": "code",
   "execution_count": null,
   "metadata": {
    "hidden": true
   },
   "outputs": [],
   "source": [
    "# Create a column to capture 'search' complaints\n",
    "test1['search']=0\n",
    "test1.search.where((test1['number_complaint_code']!=\"03\"),1, inplace=True)\n"
   ]
  },
  {
   "cell_type": "code",
   "execution_count": null,
   "metadata": {
    "hidden": true
   },
   "outputs": [],
   "source": [
    "# Filter out all unmappable complaint codes\n",
    "unk_codes = ['021','042','116','083','020','181','11','13','14']\n",
    "test1 = test1[~test1['number_complaint_code'].isin(unk_codes)]\n",
    "\n",
    "# Make sure only interpretable complaints are present\n",
    "test1.number_complaint_code.value_counts()"
   ]
  },
  {
   "cell_type": "code",
   "execution_count": 66,
   "metadata": {
    "hidden": true
   },
   "outputs": [],
   "source": [
    "test1.to_pickle('unknown_complaints')"
   ]
  }
 ],
 "metadata": {
  "kernelspec": {
   "display_name": "Python 3",
   "language": "python",
   "name": "python3"
  },
  "language_info": {
   "codemirror_mode": {
    "name": "ipython",
    "version": 3
   },
   "file_extension": ".py",
   "mimetype": "text/x-python",
   "name": "python",
   "nbconvert_exporter": "python",
   "pygments_lexer": "ipython3",
   "version": "3.7.3"
  },
  "toc": {
   "base_numbering": 1,
   "nav_menu": {},
   "number_sections": true,
   "sideBar": true,
   "skip_h1_title": false,
   "title_cell": "Table of Contents",
   "title_sidebar": "Contents",
   "toc_cell": false,
   "toc_position": {},
   "toc_section_display": true,
   "toc_window_display": false
  },
  "varInspector": {
   "cols": {
    "lenName": 16,
    "lenType": 16,
    "lenVar": 40
   },
   "kernels_config": {
    "python": {
     "delete_cmd_postfix": "",
     "delete_cmd_prefix": "del ",
     "library": "var_list.py",
     "varRefreshCmd": "print(var_dic_list())"
    },
    "r": {
     "delete_cmd_postfix": ") ",
     "delete_cmd_prefix": "rm(",
     "library": "var_list.r",
     "varRefreshCmd": "cat(var_dic_list()) "
    }
   },
   "types_to_exclude": [
    "module",
    "function",
    "builtin_function_or_method",
    "instance",
    "_Feature"
   ],
   "window_display": false
  }
 },
 "nbformat": 4,
 "nbformat_minor": 2
}
